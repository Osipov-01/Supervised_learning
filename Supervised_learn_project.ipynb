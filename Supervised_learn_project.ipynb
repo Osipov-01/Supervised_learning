{
 "cells": [
  {
   "cell_type": "markdown",
   "metadata": {},
   "source": [
    "<div style=\"border:solid Chocolate 2px; padding: 40px\">\n",
    " \n",
    "<b> Иван, привет!👋</b>  \n",
    "\n",
    "Меня зовут Кирилл Васильев, я буду ревьюером твоего проекта. Я предлагаю общаться на «ты», но если привычнее на «вы», просто скажи об этом! \n",
    "    \n",
    "**Заранее прошу прощения за долгую проверку. Многие решили сдать проекты одновременно.**\n",
    "\n",
    "\n",
    "Я буду оставлять комментарии в твоем проекте. Пожалуйста, не удаляй их, они могут быть полезны в случае повторной проверки.\n",
    "\n",
    "Ты можешь реагировать на комментарии как просто написав их в Markdown-ячейках, так и выделив их цветом. Например, <font color='blue'>синим</font>. Второй способ, на мой взгляд, удобнее.\n",
    "\n",
    "Свои комментарии я буду обозначать <font color='green'>зеленым</font>, <font color='gold'>желтым</font> и <font color='red'>красным</font> цветами, например:\n",
    "  \n",
    "<br/>\n",
    "\n",
    "<div class=\"alert alert-success\">\n",
    "<h2> Комментарий ревьюера <a class=\"tocSkip\"> </h2>\n",
    "\n",
    "<b>Все отлично!👍:</b> В случае, если решение на отдельном шаге является полностью правильным. Здесь же я могу давать советы и предложения.\n",
    "</div>\n",
    "\n",
    "<br/>\n",
    "\n",
    "<div class=\"alert alert-warning\">\n",
    "    <h2> Комментарий ревьюера <a class=\"tocSkip\"> </h2>\n",
    "    \n",
    "<b>Некоторые замечания и рекомендации💡:</b> В случае, когда решение на отдельном шаге станет еще лучше, если внести небольшие коррективы.\n",
    "</div>\n",
    "\n",
    "\n",
    "<br/>\n",
    "<div class=\"alert alert-block alert-danger\">\n",
    "<h2> Комментарий ревьюера <a class=\"tocSkip\"></h2>\n",
    "\n",
    "    \n",
    "<b>На доработку🤔:</b>\n",
    " В случае, когда решение на отдельном шаге требует существенной переработки и внесения правок. Напоминаю, что проект не может быть принят с первого раза, если ревью содержит комментарии, рекомендующие доработать шаги.\n",
    "</div>\n",
    "\n",
    "<br/>\n",
    "<div class=\"alert alert-info\">\n",
    "Рекомендую для твоих комментариев использовать синий или любой другой цветной фон. Я постараюсь ничего не пропустить, но если комментарии будут выделены, то это мне очень поможет!\n",
    "</div>\n",
    "    \n",
    "Увидев у тебя неточность, в первый раз я лишь укажу на ее наличие и дам тебе возможность самостоятельно найти и исправить ее. На реальной работе твой руководитель будет поступать также. Но если ты пока не справишься с такой задачей - при следующей проверке я дам более точную подсказку."
   ]
  },
  {
   "cell_type": "markdown",
   "metadata": {
    "toc": true
   },
   "source": [
    "<h1>Содержание<span class=\"tocSkip\"></span></h1>\n",
    "<div class=\"toc\"><ul class=\"toc-item\"><li><span><a href=\"#Подготовка-данных\" data-toc-modified-id=\"Подготовка-данных-1\"><span class=\"toc-item-num\">1&nbsp;&nbsp;</span>Подготовка данных</a></span></li><li><span><a href=\"#Исследование-задачи\" data-toc-modified-id=\"Исследование-задачи-2\"><span class=\"toc-item-num\">2&nbsp;&nbsp;</span>Исследование задачи</a></span></li><li><span><a href=\"#Борьба-с-дисбалансом\" data-toc-modified-id=\"Борьба-с-дисбалансом-3\"><span class=\"toc-item-num\">3&nbsp;&nbsp;</span>Борьба с дисбалансом</a></span></li><li><span><a href=\"#Тестирование-модели\" data-toc-modified-id=\"Тестирование-модели-4\"><span class=\"toc-item-num\">4&nbsp;&nbsp;</span>Тестирование модели</a></span><ul class=\"toc-item\"><li><span><a href=\"#Метрика-AUC-ROC\" data-toc-modified-id=\"Метрика-AUC-ROC-4.1\"><span class=\"toc-item-num\">4.1&nbsp;&nbsp;</span>Метрика AUC-ROC</a></span></li></ul></li><li><span><a href=\"#Общий-вывод\" data-toc-modified-id=\"Общий-вывод-5\"><span class=\"toc-item-num\">5&nbsp;&nbsp;</span>Общий вывод</a></span></li><li><span><a href=\"#Чек-лист-готовности-проекта\" data-toc-modified-id=\"Чек-лист-готовности-проекта-6\"><span class=\"toc-item-num\">6&nbsp;&nbsp;</span>Чек-лист готовности проекта</a></span></li></ul></div>"
   ]
  },
  {
   "cell_type": "markdown",
   "metadata": {},
   "source": [
    "# Отток клиентов"
   ]
  },
  {
   "cell_type": "markdown",
   "metadata": {},
   "source": [
    "Ссылка на проект: https://github.com/Osipov-01/Supervised_learning \n",
    "\n"
    "Из «Бета-Банка» стали уходить клиенты. Каждый месяц. Немного, но заметно. Банковские маркетологи посчитали: сохранять текущих клиентов дешевле, чем привлекать новых.\n",
    "\n",
    "Нужно спрогнозировать, уйдёт клиент из банка в ближайшее время или нет. Вам предоставлены исторические данные о поведении клиентов и расторжении договоров с банком. \n",
    "\n",
    "Постройте модель с предельно большим значением *F1*-меры. Чтобы сдать проект успешно, нужно довести метрику до 0.59. Проверьте *F1*-меру на тестовой выборке самостоятельно.\n",
    "\n",
    "Дополнительно измеряйте *AUC-ROC*, сравнивайте её значение с *F1*-мерой.\n",
    "\n",
    "Источник данных: [https://www.kaggle.com/barelydedicated/bank-customer-churn-modeling](https://www.kaggle.com/barelydedicated/bank-customer-churn-modeling)"
   ]
  },
  {
   "cell_type": "markdown",
   "metadata": {},
   "source": [
    "***ВАЖНО!*** \\\n",
    "**Комментарий:** доброго времени суток, не могу понять, почему в разных обучениях модели попадается одна и та же ошибка: could not convert string to float: 'Tan', на протяжении нескольких дней такая ошибка возникает, хотя значение 'Tan' находится вообще в столбце 'Surname' с типом данных - object, подскажите, пожалуйста! Ошибка возникает при обучении моделей во втором разделе - Исследование задачи. В связи с этим проект пока стопорится, что не очень хотелось бы"
   ]
  },
  {
   "cell_type": "markdown",
   "metadata": {},
   "source": [
    "<div class=\"alert alert-success\">\n",
    "<h2> Комментарий ревьюера <a class=\"tocSkip\"> </h2>\n",
    " \n",
    "👍 Понял. Такая ошибка часто означает, что мы подали в модель данные в виде object. Нужно же все переводить в числа.\n",
    "</div>  \n",
    " \n"
   ]
  },
  {
   "cell_type": "markdown",
   "metadata": {},
   "source": [
    "## Подготовка данных"
   ]
  },
  {
   "cell_type": "markdown",
   "metadata": {},
   "source": [
    "Импорт нужных библеотек для работы с данными"
   ]
  },
  {
   "cell_type": "code",
   "execution_count": 1,
   "metadata": {},
   "outputs": [
    {
     "name": "stdout",
     "output_type": "stream",
     "text": [
      "Collecting sklearn\n",
      "  Downloading sklearn-0.0.post1.tar.gz (3.6 kB)\n",
      "Building wheels for collected packages: sklearn\n",
      "  Building wheel for sklearn (setup.py) ... \u001b[?25ldone\n",
      "\u001b[?25h  Created wheel for sklearn: filename=sklearn-0.0.post1-py3-none-any.whl size=2343 sha256=01a51c56ac4b203b75349716028a029617eb48fa4848066cad1800c335150e91\n",
      "  Stored in directory: /home/jovyan/.cache/pip/wheels/f8/e0/3d/9d0c2020c44a519b9f02ab4fa6d2a4a996c98d79ab2f569fa1\n",
      "Successfully built sklearn\n",
      "Installing collected packages: sklearn\n",
      "Successfully installed sklearn-0.0.post1\n",
      "Note: you may need to restart the kernel to use updated packages.\n"
     ]
    }
   ],
   "source": [
    "pip install sklearn"
   ]
  },
  {
   "cell_type": "code",
   "execution_count": 2,
   "metadata": {},
   "outputs": [],
   "source": [
    "import pandas as pd\n",
    "import matplotlib.pyplot as plt\n",
    "from sklearn.preprocessing import OrdinalEncoder #энкодинг\n",
    "from sklearn.preprocessing import StandardScaler #масштабирование\n",
    "from sklearn.model_selection import train_test_split #разбивка данных\n",
    "from sklearn.tree import DecisionTreeClassifier #дерево решений\n",
    "from sklearn.ensemble import RandomForestClassifier #случайный лес\n",
    "from sklearn.linear_model import LogisticRegression #логистическое решение\n",
    "from sklearn.metrics import f1_score\n",
    "from sklearn.utils import shuffle\n",
    "from sklearn.metrics import roc_curve"
   ]
  },
  {
   "cell_type": "code",
   "execution_count": 3,
   "metadata": {},
   "outputs": [],
   "source": [
    "pd.options.mode.chained_assignment = None #удаление предупреждений"
   ]
  },
  {
   "cell_type": "markdown",
   "metadata": {},
   "source": [
    "Чтение данных с файла"
   ]
  },
  {
   "cell_type": "code",
   "execution_count": 4,
   "metadata": {},
   "outputs": [],
   "source": [
    "df = pd.read_csv('/datasets/Churn.csv')"
   ]
  },
  {
   "cell_type": "markdown",
   "metadata": {},
   "source": [
    "Ознакомление с данными: информация о таблице, содержимое и проверка типов данных в столбцах"
   ]
  },
  {
   "cell_type": "code",
   "execution_count": 5,
   "metadata": {
    "scrolled": true
   },
   "outputs": [
    {
     "name": "stdout",
     "output_type": "stream",
     "text": [
      "<class 'pandas.core.frame.DataFrame'>\n",
      "RangeIndex: 10000 entries, 0 to 9999\n",
      "Data columns (total 14 columns):\n",
      " #   Column           Non-Null Count  Dtype  \n",
      "---  ------           --------------  -----  \n",
      " 0   RowNumber        10000 non-null  int64  \n",
      " 1   CustomerId       10000 non-null  int64  \n",
      " 2   Surname          10000 non-null  object \n",
      " 3   CreditScore      10000 non-null  int64  \n",
      " 4   Geography        10000 non-null  object \n",
      " 5   Gender           10000 non-null  object \n",
      " 6   Age              10000 non-null  int64  \n",
      " 7   Tenure           9091 non-null   float64\n",
      " 8   Balance          10000 non-null  float64\n",
      " 9   NumOfProducts    10000 non-null  int64  \n",
      " 10  HasCrCard        10000 non-null  int64  \n",
      " 11  IsActiveMember   10000 non-null  int64  \n",
      " 12  EstimatedSalary  10000 non-null  float64\n",
      " 13  Exited           10000 non-null  int64  \n",
      "dtypes: float64(3), int64(8), object(3)\n",
      "memory usage: 1.1+ MB\n"
     ]
    },
    {
     "data": {
      "text/plain": [
       "None"
      ]
     },
     "metadata": {},
     "output_type": "display_data"
    },
    {
     "data": {
      "text/html": [
       "<div>\n",
       "<style scoped>\n",
       "    .dataframe tbody tr th:only-of-type {\n",
       "        vertical-align: middle;\n",
       "    }\n",
       "\n",
       "    .dataframe tbody tr th {\n",
       "        vertical-align: top;\n",
       "    }\n",
       "\n",
       "    .dataframe thead th {\n",
       "        text-align: right;\n",
       "    }\n",
       "</style>\n",
       "<table border=\"1\" class=\"dataframe\">\n",
       "  <thead>\n",
       "    <tr style=\"text-align: right;\">\n",
       "      <th></th>\n",
       "      <th>RowNumber</th>\n",
       "      <th>CustomerId</th>\n",
       "      <th>Surname</th>\n",
       "      <th>CreditScore</th>\n",
       "      <th>Geography</th>\n",
       "      <th>Gender</th>\n",
       "      <th>Age</th>\n",
       "      <th>Tenure</th>\n",
       "      <th>Balance</th>\n",
       "      <th>NumOfProducts</th>\n",
       "      <th>HasCrCard</th>\n",
       "      <th>IsActiveMember</th>\n",
       "      <th>EstimatedSalary</th>\n",
       "      <th>Exited</th>\n",
       "    </tr>\n",
       "  </thead>\n",
       "  <tbody>\n",
       "    <tr>\n",
       "      <th>0</th>\n",
       "      <td>1</td>\n",
       "      <td>15634602</td>\n",
       "      <td>Hargrave</td>\n",
       "      <td>619</td>\n",
       "      <td>France</td>\n",
       "      <td>Female</td>\n",
       "      <td>42</td>\n",
       "      <td>2.0</td>\n",
       "      <td>0.00</td>\n",
       "      <td>1</td>\n",
       "      <td>1</td>\n",
       "      <td>1</td>\n",
       "      <td>101348.88</td>\n",
       "      <td>1</td>\n",
       "    </tr>\n",
       "    <tr>\n",
       "      <th>1</th>\n",
       "      <td>2</td>\n",
       "      <td>15647311</td>\n",
       "      <td>Hill</td>\n",
       "      <td>608</td>\n",
       "      <td>Spain</td>\n",
       "      <td>Female</td>\n",
       "      <td>41</td>\n",
       "      <td>1.0</td>\n",
       "      <td>83807.86</td>\n",
       "      <td>1</td>\n",
       "      <td>0</td>\n",
       "      <td>1</td>\n",
       "      <td>112542.58</td>\n",
       "      <td>0</td>\n",
       "    </tr>\n",
       "    <tr>\n",
       "      <th>2</th>\n",
       "      <td>3</td>\n",
       "      <td>15619304</td>\n",
       "      <td>Onio</td>\n",
       "      <td>502</td>\n",
       "      <td>France</td>\n",
       "      <td>Female</td>\n",
       "      <td>42</td>\n",
       "      <td>8.0</td>\n",
       "      <td>159660.80</td>\n",
       "      <td>3</td>\n",
       "      <td>1</td>\n",
       "      <td>0</td>\n",
       "      <td>113931.57</td>\n",
       "      <td>1</td>\n",
       "    </tr>\n",
       "    <tr>\n",
       "      <th>3</th>\n",
       "      <td>4</td>\n",
       "      <td>15701354</td>\n",
       "      <td>Boni</td>\n",
       "      <td>699</td>\n",
       "      <td>France</td>\n",
       "      <td>Female</td>\n",
       "      <td>39</td>\n",
       "      <td>1.0</td>\n",
       "      <td>0.00</td>\n",
       "      <td>2</td>\n",
       "      <td>0</td>\n",
       "      <td>0</td>\n",
       "      <td>93826.63</td>\n",
       "      <td>0</td>\n",
       "    </tr>\n",
       "    <tr>\n",
       "      <th>4</th>\n",
       "      <td>5</td>\n",
       "      <td>15737888</td>\n",
       "      <td>Mitchell</td>\n",
       "      <td>850</td>\n",
       "      <td>Spain</td>\n",
       "      <td>Female</td>\n",
       "      <td>43</td>\n",
       "      <td>2.0</td>\n",
       "      <td>125510.82</td>\n",
       "      <td>1</td>\n",
       "      <td>1</td>\n",
       "      <td>1</td>\n",
       "      <td>79084.10</td>\n",
       "      <td>0</td>\n",
       "    </tr>\n",
       "  </tbody>\n",
       "</table>\n",
       "</div>"
      ],
      "text/plain": [
       "   RowNumber  CustomerId   Surname  CreditScore Geography  Gender  Age  \\\n",
       "0          1    15634602  Hargrave          619    France  Female   42   \n",
       "1          2    15647311      Hill          608     Spain  Female   41   \n",
       "2          3    15619304      Onio          502    France  Female   42   \n",
       "3          4    15701354      Boni          699    France  Female   39   \n",
       "4          5    15737888  Mitchell          850     Spain  Female   43   \n",
       "\n",
       "   Tenure    Balance  NumOfProducts  HasCrCard  IsActiveMember  \\\n",
       "0     2.0       0.00              1          1               1   \n",
       "1     1.0   83807.86              1          0               1   \n",
       "2     8.0  159660.80              3          1               0   \n",
       "3     1.0       0.00              2          0               0   \n",
       "4     2.0  125510.82              1          1               1   \n",
       "\n",
       "   EstimatedSalary  Exited  \n",
       "0        101348.88       1  \n",
       "1        112542.58       0  \n",
       "2        113931.57       1  \n",
       "3         93826.63       0  \n",
       "4         79084.10       0  "
      ]
     },
     "metadata": {},
     "output_type": "display_data"
    },
    {
     "data": {
      "text/plain": [
       "RowNumber            int64\n",
       "CustomerId           int64\n",
       "Surname             object\n",
       "CreditScore          int64\n",
       "Geography           object\n",
       "Gender              object\n",
       "Age                  int64\n",
       "Tenure             float64\n",
       "Balance            float64\n",
       "NumOfProducts        int64\n",
       "HasCrCard            int64\n",
       "IsActiveMember       int64\n",
       "EstimatedSalary    float64\n",
       "Exited               int64\n",
       "dtype: object"
      ]
     },
     "metadata": {},
     "output_type": "display_data"
    }
   ],
   "source": [
    "display(df.info())\n",
    "display(df.head())\n",
    "display(df.dtypes)"
   ]
  },
  {
   "cell_type": "markdown",
   "metadata": {},
   "source": [
    "Можно увидеть, что все данные заполнены в корректном виде, но до конца не заполнены в столбце 'Tenure' — сколько лет человек является клиентом банка."
   ]
  },
  {
   "cell_type": "code",
   "execution_count": 6,
   "metadata": {
    "scrolled": false
   },
   "outputs": [
    {
     "data": {
      "text/plain": [
       "array([ 2.,  1.,  8.,  7.,  4.,  6.,  3., 10.,  5.,  9.,  0., nan])"
      ]
     },
     "metadata": {},
     "output_type": "display_data"
    },
    {
     "data": {
      "text/plain": [
       "Tenure\n",
       "0.0     382\n",
       "1.0     952\n",
       "2.0     950\n",
       "3.0     928\n",
       "4.0     885\n",
       "5.0     927\n",
       "6.0     881\n",
       "7.0     925\n",
       "8.0     933\n",
       "9.0     882\n",
       "10.0    446\n",
       "Name: Tenure, dtype: int64"
      ]
     },
     "metadata": {},
     "output_type": "display_data"
    },
    {
     "data": {
      "text/plain": [
       "9091"
      ]
     },
     "metadata": {},
     "output_type": "display_data"
    }
   ],
   "source": [
    "display(df['Tenure'].unique())\n",
    "display(df.groupby('Tenure')['Tenure'].count())\n",
    "display(df.groupby('Tenure')['Tenure'].count().sum())"
   ]
  },
  {
   "cell_type": "code",
   "execution_count": 7,
   "metadata": {},
   "outputs": [
    {
     "data": {
      "text/plain": [
       "<AxesSubplot:>"
      ]
     },
     "execution_count": 7,
     "metadata": {},
     "output_type": "execute_result"
    },
    {
     "data": {
      "image/png": "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\n",
      "text/plain": [
       "<Figure size 432x288 with 1 Axes>"
      ]
     },
     "metadata": {
      "needs_background": "light"
     },
     "output_type": "display_data"
    }
   ],
   "source": [
    "df['Tenure'].hist(bins=11)"
   ]
  },
  {
   "cell_type": "code",
   "execution_count": 8,
   "metadata": {},
   "outputs": [
    {
     "data": {
      "text/plain": [
       "<AxesSubplot:>"
      ]
     },
     "execution_count": 8,
     "metadata": {},
     "output_type": "execute_result"
    },
    {
     "data": {
      "image/png": "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\n",
      "text/plain": [
       "<Figure size 432x288 with 1 Axes>"
      ]
     },
     "metadata": {
      "needs_background": "light"
     },
     "output_type": "display_data"
    }
   ],
   "source": [
    "df.boxplot(column=['Tenure'])"
   ]
  },
  {
   "cell_type": "markdown",
   "metadata": {},
   "source": [
    "Видим, что столбец 'Tenure' не заполнялся. Так как пропущенных значений меньше 10%, можем заполнить этот столбец медианным значением, чтобы не изменить структуру распределения данных"
   ]
  },
  {
   "cell_type": "code",
   "execution_count": 9,
   "metadata": {},
   "outputs": [],
   "source": [
    "df['Tenure'] = df['Tenure'].fillna(df['Tenure'].median())"
   ]
  },
  {
   "cell_type": "markdown",
   "metadata": {},
   "source": [
    "<div class=\"alert alert-success\">\n",
    "<h2> Комментарий ревьюера #2 <a class=\"tocSkip\"> </h2>\n",
    "\n",
    "👍 Теперь все отлично.\n",
    "</div>\n"
   ]
  },
  {
   "cell_type": "markdown",
   "metadata": {},
   "source": [
    "Проверим, что вышло по итогу после заполнения"
   ]
  },
  {
   "cell_type": "code",
   "execution_count": 10,
   "metadata": {},
   "outputs": [
    {
     "data": {
      "text/plain": [
       "<AxesSubplot:>"
      ]
     },
     "metadata": {},
     "output_type": "display_data"
    },
    {
     "data": {
      "image/png": "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\n",
      "text/plain": [
       "<Figure size 432x288 with 1 Axes>"
      ]
     },
     "metadata": {
      "needs_background": "light"
     },
     "output_type": "display_data"
    },
    {
     "data": {
      "text/plain": [
       "<AxesSubplot:>"
      ]
     },
     "metadata": {},
     "output_type": "display_data"
    },
    {
     "data": {
      "image/png": "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\n",
      "text/plain": [
       "<Figure size 432x288 with 1 Axes>"
      ]
     },
     "metadata": {
      "needs_background": "light"
     },
     "output_type": "display_data"
    }
   ],
   "source": [
    "display(df['Tenure'].hist(bins=11))\n",
    "plt.show()\n",
    "display(df.boxplot(column=['Tenure']))\n",
    "plt.show()"
   ]
  },
  {
   "cell_type": "markdown",
   "metadata": {},
   "source": [
    "<div class=\"alert alert-block alert-danger\">\n",
    "<h2><s> Комментарий ревьюера <a class=\"tocSkip\"></h2>\n",
    "  \n",
    "<b>На доработку🤔:</b>\n",
    " \n",
    "Предположение, что пропуски там, где клиент пришел недавно достаточно (если аргументация в этом), неплохое. Но подтвердить его сейчас мы не можем. Поэтому лучше следовать принципу, что следующие данные будут такими же по распределению, как текущие, и лучшей тактикой минимизации ошибки будет значение из области наибольшей плотности распределения, не изменяющую структуры распределения признака. \n",
    "    \n",
    "Доля пропусков не критично велика, возможно и решение с удалением. Однако данных у нас не много, я бы остановился на чем-то вроде медианы.\n",
    "\n",
    "</div>"
   ]
  },
  {
   "cell_type": "code",
   "execution_count": 11,
   "metadata": {},
   "outputs": [
    {
     "data": {
      "text/plain": [
       "array([ 2.,  1.,  8.,  7.,  4.,  6.,  3., 10.,  5.,  9.,  0.])"
      ]
     },
     "metadata": {},
     "output_type": "display_data"
    },
    {
     "data": {
      "text/plain": [
       "Tenure\n",
       "0.0      382\n",
       "1.0      952\n",
       "2.0      950\n",
       "3.0      928\n",
       "4.0      885\n",
       "5.0     1836\n",
       "6.0      881\n",
       "7.0      925\n",
       "8.0      933\n",
       "9.0      882\n",
       "10.0     446\n",
       "Name: Tenure, dtype: int64"
      ]
     },
     "metadata": {},
     "output_type": "display_data"
    },
    {
     "data": {
      "text/plain": [
       "10000"
      ]
     },
     "metadata": {},
     "output_type": "display_data"
    }
   ],
   "source": [
    "display(df['Tenure'].unique())\n",
    "display(df.groupby('Tenure')['Tenure'].count())\n",
    "display(df.groupby('Tenure')['Tenure'].count().sum())"
   ]
  },
  {
   "cell_type": "markdown",
   "metadata": {},
   "source": [
    "Видим, что данные заполнены корректно"
   ]
  },
  {
   "cell_type": "markdown",
   "metadata": {},
   "source": [
    "Выведем уникальные значения для столбцов 'Geography', 'Gender', где могут быть неявные дубликаты, чтобы их устранить."
   ]
  },
  {
   "cell_type": "code",
   "execution_count": 12,
   "metadata": {},
   "outputs": [
    {
     "data": {
      "text/plain": [
       "array(['France', 'Spain', 'Germany'], dtype=object)"
      ]
     },
     "metadata": {},
     "output_type": "display_data"
    },
    {
     "data": {
      "text/plain": [
       "array(['Female', 'Male'], dtype=object)"
      ]
     },
     "metadata": {},
     "output_type": "display_data"
    }
   ],
   "source": [
    "display(df['Geography'].unique())\n",
    "display(df['Gender'].unique())"
   ]
  },
  {
   "cell_type": "markdown",
   "metadata": {},
   "source": [
    "Неявных дубликатов не обнаружено"
   ]
  },
  {
   "cell_type": "markdown",
   "metadata": {},
   "source": [
    "Проверим данные на аномальность или выбросы"
   ]
  },
  {
   "cell_type": "code",
   "execution_count": 13,
   "metadata": {},
   "outputs": [
    {
     "data": {
      "text/html": [
       "<div>\n",
       "<style scoped>\n",
       "    .dataframe tbody tr th:only-of-type {\n",
       "        vertical-align: middle;\n",
       "    }\n",
       "\n",
       "    .dataframe tbody tr th {\n",
       "        vertical-align: top;\n",
       "    }\n",
       "\n",
       "    .dataframe thead th {\n",
       "        text-align: right;\n",
       "    }\n",
       "</style>\n",
       "<table border=\"1\" class=\"dataframe\">\n",
       "  <thead>\n",
       "    <tr style=\"text-align: right;\">\n",
       "      <th></th>\n",
       "      <th>count</th>\n",
       "      <th>unique</th>\n",
       "      <th>top</th>\n",
       "      <th>freq</th>\n",
       "      <th>mean</th>\n",
       "      <th>std</th>\n",
       "      <th>min</th>\n",
       "      <th>25%</th>\n",
       "      <th>50%</th>\n",
       "      <th>75%</th>\n",
       "      <th>max</th>\n",
       "    </tr>\n",
       "  </thead>\n",
       "  <tbody>\n",
       "    <tr>\n",
       "      <th>RowNumber</th>\n",
       "      <td>10000.0</td>\n",
       "      <td>NaN</td>\n",
       "      <td>NaN</td>\n",
       "      <td>NaN</td>\n",
       "      <td>5000.5</td>\n",
       "      <td>2886.89568</td>\n",
       "      <td>1.0</td>\n",
       "      <td>2500.75</td>\n",
       "      <td>5000.5</td>\n",
       "      <td>7500.25</td>\n",
       "      <td>10000.0</td>\n",
       "    </tr>\n",
       "    <tr>\n",
       "      <th>CustomerId</th>\n",
       "      <td>10000.0</td>\n",
       "      <td>NaN</td>\n",
       "      <td>NaN</td>\n",
       "      <td>NaN</td>\n",
       "      <td>15690940.5694</td>\n",
       "      <td>71936.186123</td>\n",
       "      <td>15565701.0</td>\n",
       "      <td>15628528.25</td>\n",
       "      <td>15690738.0</td>\n",
       "      <td>15753233.75</td>\n",
       "      <td>15815690.0</td>\n",
       "    </tr>\n",
       "    <tr>\n",
       "      <th>Surname</th>\n",
       "      <td>10000</td>\n",
       "      <td>2932</td>\n",
       "      <td>Smith</td>\n",
       "      <td>32</td>\n",
       "      <td>NaN</td>\n",
       "      <td>NaN</td>\n",
       "      <td>NaN</td>\n",
       "      <td>NaN</td>\n",
       "      <td>NaN</td>\n",
       "      <td>NaN</td>\n",
       "      <td>NaN</td>\n",
       "    </tr>\n",
       "    <tr>\n",
       "      <th>CreditScore</th>\n",
       "      <td>10000.0</td>\n",
       "      <td>NaN</td>\n",
       "      <td>NaN</td>\n",
       "      <td>NaN</td>\n",
       "      <td>650.5288</td>\n",
       "      <td>96.653299</td>\n",
       "      <td>350.0</td>\n",
       "      <td>584.0</td>\n",
       "      <td>652.0</td>\n",
       "      <td>718.0</td>\n",
       "      <td>850.0</td>\n",
       "    </tr>\n",
       "    <tr>\n",
       "      <th>Geography</th>\n",
       "      <td>10000</td>\n",
       "      <td>3</td>\n",
       "      <td>France</td>\n",
       "      <td>5014</td>\n",
       "      <td>NaN</td>\n",
       "      <td>NaN</td>\n",
       "      <td>NaN</td>\n",
       "      <td>NaN</td>\n",
       "      <td>NaN</td>\n",
       "      <td>NaN</td>\n",
       "      <td>NaN</td>\n",
       "    </tr>\n",
       "    <tr>\n",
       "      <th>Gender</th>\n",
       "      <td>10000</td>\n",
       "      <td>2</td>\n",
       "      <td>Male</td>\n",
       "      <td>5457</td>\n",
       "      <td>NaN</td>\n",
       "      <td>NaN</td>\n",
       "      <td>NaN</td>\n",
       "      <td>NaN</td>\n",
       "      <td>NaN</td>\n",
       "      <td>NaN</td>\n",
       "      <td>NaN</td>\n",
       "    </tr>\n",
       "    <tr>\n",
       "      <th>Age</th>\n",
       "      <td>10000.0</td>\n",
       "      <td>NaN</td>\n",
       "      <td>NaN</td>\n",
       "      <td>NaN</td>\n",
       "      <td>38.9218</td>\n",
       "      <td>10.487806</td>\n",
       "      <td>18.0</td>\n",
       "      <td>32.0</td>\n",
       "      <td>37.0</td>\n",
       "      <td>44.0</td>\n",
       "      <td>92.0</td>\n",
       "    </tr>\n",
       "    <tr>\n",
       "      <th>Tenure</th>\n",
       "      <td>10000.0</td>\n",
       "      <td>NaN</td>\n",
       "      <td>NaN</td>\n",
       "      <td>NaN</td>\n",
       "      <td>4.9979</td>\n",
       "      <td>2.76001</td>\n",
       "      <td>0.0</td>\n",
       "      <td>3.0</td>\n",
       "      <td>5.0</td>\n",
       "      <td>7.0</td>\n",
       "      <td>10.0</td>\n",
       "    </tr>\n",
       "    <tr>\n",
       "      <th>Balance</th>\n",
       "      <td>10000.0</td>\n",
       "      <td>NaN</td>\n",
       "      <td>NaN</td>\n",
       "      <td>NaN</td>\n",
       "      <td>76485.889288</td>\n",
       "      <td>62397.405202</td>\n",
       "      <td>0.0</td>\n",
       "      <td>0.0</td>\n",
       "      <td>97198.54</td>\n",
       "      <td>127644.24</td>\n",
       "      <td>250898.09</td>\n",
       "    </tr>\n",
       "    <tr>\n",
       "      <th>NumOfProducts</th>\n",
       "      <td>10000.0</td>\n",
       "      <td>NaN</td>\n",
       "      <td>NaN</td>\n",
       "      <td>NaN</td>\n",
       "      <td>1.5302</td>\n",
       "      <td>0.581654</td>\n",
       "      <td>1.0</td>\n",
       "      <td>1.0</td>\n",
       "      <td>1.0</td>\n",
       "      <td>2.0</td>\n",
       "      <td>4.0</td>\n",
       "    </tr>\n",
       "    <tr>\n",
       "      <th>HasCrCard</th>\n",
       "      <td>10000.0</td>\n",
       "      <td>NaN</td>\n",
       "      <td>NaN</td>\n",
       "      <td>NaN</td>\n",
       "      <td>0.7055</td>\n",
       "      <td>0.45584</td>\n",
       "      <td>0.0</td>\n",
       "      <td>0.0</td>\n",
       "      <td>1.0</td>\n",
       "      <td>1.0</td>\n",
       "      <td>1.0</td>\n",
       "    </tr>\n",
       "    <tr>\n",
       "      <th>IsActiveMember</th>\n",
       "      <td>10000.0</td>\n",
       "      <td>NaN</td>\n",
       "      <td>NaN</td>\n",
       "      <td>NaN</td>\n",
       "      <td>0.5151</td>\n",
       "      <td>0.499797</td>\n",
       "      <td>0.0</td>\n",
       "      <td>0.0</td>\n",
       "      <td>1.0</td>\n",
       "      <td>1.0</td>\n",
       "      <td>1.0</td>\n",
       "    </tr>\n",
       "    <tr>\n",
       "      <th>EstimatedSalary</th>\n",
       "      <td>10000.0</td>\n",
       "      <td>NaN</td>\n",
       "      <td>NaN</td>\n",
       "      <td>NaN</td>\n",
       "      <td>100090.239881</td>\n",
       "      <td>57510.492818</td>\n",
       "      <td>11.58</td>\n",
       "      <td>51002.11</td>\n",
       "      <td>100193.915</td>\n",
       "      <td>149388.2475</td>\n",
       "      <td>199992.48</td>\n",
       "    </tr>\n",
       "    <tr>\n",
       "      <th>Exited</th>\n",
       "      <td>10000.0</td>\n",
       "      <td>NaN</td>\n",
       "      <td>NaN</td>\n",
       "      <td>NaN</td>\n",
       "      <td>0.2037</td>\n",
       "      <td>0.402769</td>\n",
       "      <td>0.0</td>\n",
       "      <td>0.0</td>\n",
       "      <td>0.0</td>\n",
       "      <td>0.0</td>\n",
       "      <td>1.0</td>\n",
       "    </tr>\n",
       "  </tbody>\n",
       "</table>\n",
       "</div>"
      ],
      "text/plain": [
       "                   count unique     top  freq           mean           std  \\\n",
       "RowNumber        10000.0    NaN     NaN   NaN         5000.5    2886.89568   \n",
       "CustomerId       10000.0    NaN     NaN   NaN  15690940.5694  71936.186123   \n",
       "Surname            10000   2932   Smith    32            NaN           NaN   \n",
       "CreditScore      10000.0    NaN     NaN   NaN       650.5288     96.653299   \n",
       "Geography          10000      3  France  5014            NaN           NaN   \n",
       "Gender             10000      2    Male  5457            NaN           NaN   \n",
       "Age              10000.0    NaN     NaN   NaN        38.9218     10.487806   \n",
       "Tenure           10000.0    NaN     NaN   NaN         4.9979       2.76001   \n",
       "Balance          10000.0    NaN     NaN   NaN   76485.889288  62397.405202   \n",
       "NumOfProducts    10000.0    NaN     NaN   NaN         1.5302      0.581654   \n",
       "HasCrCard        10000.0    NaN     NaN   NaN         0.7055       0.45584   \n",
       "IsActiveMember   10000.0    NaN     NaN   NaN         0.5151      0.499797   \n",
       "EstimatedSalary  10000.0    NaN     NaN   NaN  100090.239881  57510.492818   \n",
       "Exited           10000.0    NaN     NaN   NaN         0.2037      0.402769   \n",
       "\n",
       "                        min          25%         50%          75%         max  \n",
       "RowNumber               1.0      2500.75      5000.5      7500.25     10000.0  \n",
       "CustomerId       15565701.0  15628528.25  15690738.0  15753233.75  15815690.0  \n",
       "Surname                 NaN          NaN         NaN          NaN         NaN  \n",
       "CreditScore           350.0        584.0       652.0        718.0       850.0  \n",
       "Geography               NaN          NaN         NaN          NaN         NaN  \n",
       "Gender                  NaN          NaN         NaN          NaN         NaN  \n",
       "Age                    18.0         32.0        37.0         44.0        92.0  \n",
       "Tenure                  0.0          3.0         5.0          7.0        10.0  \n",
       "Balance                 0.0          0.0    97198.54    127644.24   250898.09  \n",
       "NumOfProducts           1.0          1.0         1.0          2.0         4.0  \n",
       "HasCrCard               0.0          0.0         1.0          1.0         1.0  \n",
       "IsActiveMember          0.0          0.0         1.0          1.0         1.0  \n",
       "EstimatedSalary       11.58     51002.11  100193.915  149388.2475   199992.48  \n",
       "Exited                  0.0          0.0         0.0          0.0         1.0  "
      ]
     },
     "metadata": {},
     "output_type": "display_data"
    }
   ],
   "source": [
    "display(df.describe(include='all').T) #.T (или .transpose()) - для транспонировании таблицы"
   ]
  },
  {
   "cell_type": "markdown",
   "metadata": {},
   "source": [
    "<div class=\"alert alert-success\">\n",
    "<h2> Комментарий ревьюера <a class=\"tocSkip\"> </h2>\n",
    "\n",
    "👍 Отлично. Здесь можно передать аргументы, чтобы информация отображалась и по переменным с нечисленными типами данных.\n",
    "      \n",
    "`describe(include='all')`\n",
    "    \n",
    "Возможно, удобнее будет смотреть, если транспонировать таблицу.\n",
    "</div>\n"
   ]
  },
  {
   "cell_type": "markdown",
   "metadata": {},
   "source": [
    "Выбросов не обнаружено, следовательно, можем приступать к решению проблемы, а именно: нужно спрогнозировать, уйдёт клиент из банка в ближайшее время или нет. "
   ]
  },
  {
   "cell_type": "markdown",
   "metadata": {},
   "source": [
    "Удалим лишние столбцы, которые почти никак не повлияют на обучение данных"
   ]
  },
  {
   "cell_type": "code",
   "execution_count": 14,
   "metadata": {},
   "outputs": [],
   "source": [
    "df = df.drop(['RowNumber', 'CustomerId', 'Surname'], axis=1)"
   ]
  },
  {
   "cell_type": "markdown",
   "metadata": {},
   "source": [
    "<div class=\"alert alert-block alert-danger\">\n",
    "<h2><s> Комментарий ревьюера <a class=\"tocSkip\"></h2>\n",
    "  \n",
    "<b>На доработку🤔:</b>\n",
    "    \n",
    "Да, действительно, забыли сделать энкодинг. Модельки считают только числа, либо перемножая их между собой в виде матриц, либо вычисляя энтропию в деревьях. Сравнивать объекты модели не умеют, поэтому наши данные в виде object нужно закодировать.\n",
    "    \n",
    "Важно перед энкодингом удалить ненужные колонки. Это наши признаки, которые не количественные и преимущественно уникальные. Модель не приобретет по ним обобщающей способности, для обучения они бесполезны. К ним относятся номера записей, айдишники, фамилии. Вряд ли модель, увидев однажды фамилию «Митчел», сможет как-то вычислить, что такой клиент склонен продолжать обслуживание в банке. Колонку с фамилиями нужно удалить.\n",
    "    \n",
    "Останутся у нас из объектов «пол» и «география». Это важные для нас признаки.\n",
    " \n",
    "Энкодинг с pd.get_dummies() следует делать до разбиения на выборки. Это необходимо для ситуации, когда какая-то из категорий случайно не попадет в тренировочную выборку (например, если она редкая). Столкнувшись с ней на валидации или тесте, модель упадет.\n",
    "\n",
    "</div>\n"
   ]
  },
  {
   "cell_type": "markdown",
   "metadata": {},
   "source": [
    "**Вывод:** в процессе подготовки данных для исследования были считаны данные из файла и проведены проверки данных на пустые значения, дубликаты, некорректные типы данных, где по итогу пришлось только заполнить пустые поля в столбце 'Tenure' медианным значением - 5."
   ]
  },
  {
   "cell_type": "markdown",
   "metadata": {},
   "source": [
    "## Исследование задачи"
   ]
  },
  {
   "cell_type": "markdown",
   "metadata": {},
   "source": [
    "Найдём соотношение в %, сколько ушло и сколько осталось клиентов"
   ]
  },
  {
   "cell_type": "code",
   "execution_count": 15,
   "metadata": {},
   "outputs": [
    {
     "data": {
      "text/plain": [
       "0    79.63\n",
       "1    20.37\n",
       "Name: Exited, dtype: float64"
      ]
     },
     "execution_count": 15,
     "metadata": {},
     "output_type": "execute_result"
    }
   ],
   "source": [
    "df['Exited'].value_counts()/df['Exited'].count()*100"
   ]
  },
  {
   "cell_type": "markdown",
   "metadata": {},
   "source": [
    "Видим, что каждый 5-й уходил из банка"
   ]
  },
  {
   "cell_type": "markdown",
   "metadata": {},
   "source": [
    "Теперь исследуем, по какой причине они могли это делать"
   ]
  },
  {
   "cell_type": "code",
   "execution_count": 16,
   "metadata": {
    "scrolled": true
   },
   "outputs": [
    {
     "data": {
      "text/plain": [
       "<AxesSubplot:title={'center':'Гистограмма Geography и оттока'}, xlabel='Geography'>"
      ]
     },
     "metadata": {},
     "output_type": "display_data"
    },
    {
     "data": {
      "image/png": "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\n",
      "text/plain": [
       "<Figure size 432x288 with 1 Axes>"
      ]
     },
     "metadata": {
      "needs_background": "light"
     },
     "output_type": "display_data"
    },
    {
     "data": {
      "text/plain": [
       "<AxesSubplot:title={'center':'Гистограмма Gender и оттока'}, xlabel='Gender'>"
      ]
     },
     "metadata": {},
     "output_type": "display_data"
    },
    {
     "data": {
      "image/png": "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\n",
      "text/plain": [
       "<Figure size 432x288 with 1 Axes>"
      ]
     },
     "metadata": {
      "needs_background": "light"
     },
     "output_type": "display_data"
    },
    {
     "data": {
      "text/plain": [
       "<AxesSubplot:title={'center':'Гистограмма NumOfProducts и оттока'}, xlabel='NumOfProducts'>"
      ]
     },
     "metadata": {},
     "output_type": "display_data"
    },
    {
     "data": {
      "image/png": "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\n",
      "text/plain": [
       "<Figure size 432x288 with 1 Axes>"
      ]
     },
     "metadata": {
      "needs_background": "light"
     },
     "output_type": "display_data"
    },
    {
     "data": {
      "text/plain": [
       "<AxesSubplot:title={'center':'Гистограмма HasCrCard и оттока'}, xlabel='HasCrCard'>"
      ]
     },
     "metadata": {},
     "output_type": "display_data"
    },
    {
     "data": {
      "image/png": "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\n",
      "text/plain": [
       "<Figure size 432x288 with 1 Axes>"
      ]
     },
     "metadata": {
      "needs_background": "light"
     },
     "output_type": "display_data"
    },
    {
     "data": {
      "text/plain": [
       "<AxesSubplot:title={'center':'Гистограмма IsActiveMember и оттока'}, xlabel='IsActiveMember'>"
      ]
     },
     "metadata": {},
     "output_type": "display_data"
    },
    {
     "data": {
      "image/png": "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\n",
      "text/plain": [
       "<Figure size 432x288 with 1 Axes>"
      ]
     },
     "metadata": {
      "needs_background": "light"
     },
     "output_type": "display_data"
    }
   ],
   "source": [
    "columns = df.columns.tolist()\n",
    "columns.remove('Exited')\n",
    "#print(columns)\n",
    "for column in columns:\n",
    "    if df[column].nunique() < 20 and column != 'Tenure':\n",
    "        display(df.groupby(column)['Exited'].sum().plot(kind='bar', title=f'Гистограмма {column} и оттока'))\n",
    "        plt.show()\n"
   ]
  },
  {
   "cell_type": "markdown",
   "metadata": {},
   "source": [
    "Исходя из полученных графиков, мы видим отток в основном неактивных клиентов из Франции и Германии, преимущественно женского пола, которые пользовались одним продуктом банка и имели банковскую карту."
   ]
  },
  {
   "cell_type": "markdown",
   "metadata": {},
   "source": [
    "Проведём энкодинг данных для обучения моделей с дальнейшей целью предсказывать отток клиентов из банка."
   ]
  },
  {
   "cell_type": "code",
   "execution_count": 17,
   "metadata": {
    "scrolled": true
   },
   "outputs": [],
   "source": [
    "#encoder = OrdinalEncoder()\n",
    "#df_ordinal = pd.DataFrame(encoder.fit_transform(df), columns=df.columns)\n",
    "#display(df_ordinal)"
   ]
  },
  {
   "cell_type": "markdown",
   "metadata": {},
   "source": [
    "Зададим для данных целевой признак (это факт ухода клиента), т.е. столбец 'Exited' - target, и признаки без целевого - features."
   ]
  },
  {
   "cell_type": "code",
   "execution_count": 17,
   "metadata": {},
   "outputs": [],
   "source": [
    "#data_ohe = pd.get_dummies(df_ordinal, drop_first=True)\n",
    "data_ohe = pd.get_dummies(df, drop_first=True)\n",
    "target = data_ohe['Exited']\n",
    "features = data_ohe.drop(['Exited'], axis=1)"
   ]
  },
  {
   "cell_type": "markdown",
   "metadata": {},
   "source": [
    "<div class=\"alert alert-block alert-danger\" style=\"border-radius: 15px; box-shadow: 4px 4px 4px; border: 1px solid \">\n",
    "<h2><s> Комментарий ревьюера #2 <a class=\"tocSkip\"></h2>\n",
    "  \n",
    "<b>На доработку🤔:</b>\n",
    " \n",
    "Здесь ты сначала делаешь порядковое кодирование с помощью `OrdinalEncoder()`, после чего избавляешься от всех данных типа object, переводя их в числа. А затем применяешь к этому датасету `pd.get_dummies(df_ordinal, drop_first=True)`, но второй тип энкодинга ничего не меняет, так как не находит данных в типе object. В итоге у нас остается порядковое кодирование.\n",
    "    \n",
    "Этот вид кодирования нам не подходит, потому что мы используем линейные модели. Линейные моделя, напомню, подбирают фичам веса и воспринимают данные как числа, сравнивая их между собой (Если Испания = 2, а Германия = 1, то с точки зрения модели Испания в два раза больше Германии.\n",
    "    \n",
    "***\n",
    "    \n",
    "Нам нужно провести сразу прямое кодирование, применив `pd.get_dummies(df_ordinal, drop_first=True)` к изначальному датасету. Порядковое кодирование `OrdinalEncoder()` важно убрать.\n",
    "\n",
    "</div>\n"
   ]
  },
  {
   "cell_type": "markdown",
   "metadata": {},
   "source": [
    "**Разобьём данные на обучающие, валидационные и тестовые в соотношении 3:1:1**"
   ]
  },
  {
   "cell_type": "markdown",
   "metadata": {},
   "source": [
    "Разбиение данных на обучающие (80% от исходных: в обучающие данные сами обучающие данные - 60% и валидационная - 20%) и тестовые (20%), т.е. в соотношении 4:1"
   ]
  },
  {
   "cell_type": "code",
   "execution_count": 18,
   "metadata": {},
   "outputs": [],
   "source": [
    "features_train, features_test, target_train, target_test = (\n",
    "    train_test_split(features, target, test_size=.2, random_state=12345)\n",
    ")"
   ]
  },
  {
   "cell_type": "markdown",
   "metadata": {},
   "source": [
    "Разбиение обучающих данных на обучающие (75% или 60% от исходных) и валидационные (25% или 20% от исходных) в соотношении 3:1"
   ]
  },
  {
   "cell_type": "code",
   "execution_count": 19,
   "metadata": {},
   "outputs": [],
   "source": [
    "features_train, features_valid, target_train, target_valid = (\n",
    "    train_test_split(features_train, target_train, test_size=.25, random_state=12345)\n",
    ")"
   ]
  },
  {
   "cell_type": "markdown",
   "metadata": {},
   "source": [
    "Проведём масштабирование признаков"
   ]
  },
  {
   "cell_type": "code",
   "execution_count": 20,
   "metadata": {},
   "outputs": [],
   "source": [
    "scaler = StandardScaler()\n",
    "#numeric = features_train.columns.tolist()\n",
    "numeric = ['CreditScore', 'Age', 'Tenure', 'Balance', 'EstimatedSalary']\n",
    "\n",
    "scaler.fit(features_train[numeric])\n",
    "\n",
    "features_train[numeric] = scaler.transform(features_train[numeric])\n",
    "features_valid[numeric] = scaler.transform(features_valid[numeric])\n",
    "features_test[numeric] = scaler.transform(features_test[numeric])"
   ]
  },
  {
   "cell_type": "markdown",
   "metadata": {},
   "source": [
    "<div class=\"alert alert-success\">\n",
    "<h2> Комментарий ревьюера <a class=\"tocSkip\"> </h2>\n",
    "\n",
    "👍 С разбиением на выборки согласен. \n",
    "</div>\n"
   ]
  },
  {
   "cell_type": "markdown",
   "metadata": {},
   "source": [
    "<div class=\"alert alert-block alert-danger\">\n",
    "<h2><s> Комментарий ревьюера <a class=\"tocSkip\"></h2>\n",
    "  \n",
    "<b>На доработку🤔:</b>\n",
    " \n",
    "Ниже используем линейные модели. Поэтому здесь необходимо сделать масштабирование. Напомню, делаем его после разбиения на выборки: обучаемся на тренировочной, а применяем ко всем трем, включая тестовую. Про тестовую часто забывают.\n",
    "\n",
    "</div>\n"
   ]
  },
  {
   "cell_type": "markdown",
   "metadata": {},
   "source": [
    "<div class=\"alert alert-warning\">\n",
    "<h2> Комментарий ревьюера  #2 <a class=\"tocSkip\"> </h2>\n",
    "    \n",
    "<b>Некоторые замечания и рекомендации💡:</b> \n",
    "\n",
    "Здесь можно не тянуть абсолютно все колонки в энкодинг. Там, где бинарные признаки или числа от 1 од 10 или меньше можно оставить как есть.\n",
    "\n",
    "`numeric = ['CreditScore', 'Age', 'Tenure', 'Balance', 'EstimatedSalary']\n",
    "scaler = StandardScaler()\n",
    "scaler.fit(features_train[numeric])\n",
    "features_train[numeric] = scaler.transform(features_train[numeric])\n",
    "features_valid[numeric] = scaler.transform(features_valid[numeric])\n",
    "features_test[numeric] = scaler.transform(features_test[numeric])`\n",
    "\n",
    "\n",
    "       \n",
    "</div>"
   ]
  },
  {
   "cell_type": "markdown",
   "metadata": {},
   "source": [
    "**Обучим данные с помощью разных моделей и посмотрим, какая лучше всего подойдёт**"
   ]
  },
  {
   "cell_type": "markdown",
   "metadata": {},
   "source": [
    "Дерево решений"
   ]
  },
  {
   "cell_type": "code",
   "execution_count": 21,
   "metadata": {},
   "outputs": [
    {
     "name": "stdout",
     "output_type": "stream",
     "text": [
      "0.5583596214511041\n",
      "7\n"
     ]
    }
   ],
   "source": [
    "max_depth = 10\n",
    "max_f1_score_tree = 0\n",
    "best_depth_tree = 0 \n",
    "for depth in range(1, max_depth+1):\n",
    "    model = DecisionTreeClassifier(max_depth=depth, random_state=12345)\n",
    "    model.fit(features_train, target_train)\n",
    "    predicted_valid = model.predict(features_valid)\n",
    "    f1_score_tree = f1_score(target_valid, predicted_valid)\n",
    "    if f1_score_tree > max_f1_score_tree:\n",
    "        max_f1_score_tree = f1_score_tree\n",
    "        best_depth_tree = depth\n",
    "        \n",
    "print(max_f1_score_tree)\n",
    "print(best_depth_tree)\n",
    "\n",
    "    "
   ]
  },
  {
   "cell_type": "markdown",
   "metadata": {},
   "source": [
    "Модель \"дерево решений\" показала лучшее значение при f1_score=0.558 и depth=7"
   ]
  },
  {
   "cell_type": "markdown",
   "metadata": {},
   "source": [
    "<div class=\"alert alert-warning\">\n",
    "<h2> Комментарий ревьюера <a class=\"tocSkip\"> </h2>\n",
    "    \n",
    "<b>Некоторые замечания и рекомендации💡:</b> \n",
    "\n",
    "Уникальные значения столбца выводить не стоит. Из соображений читаемости.\n",
    "       \n",
    "</div>\n",
    "\n"
   ]
  },
  {
   "cell_type": "markdown",
   "metadata": {},
   "source": [
    "<div class=\"alert alert-success\">\n",
    "<h2> Комментарий ревьюера <a class=\"tocSkip\"> </h2>\n",
    "\n",
    "👍 Здесь по обучению моделей все корректно. Думаю, после экнодинга все должно заработать.\n",
    "</div> \n",
    "\n"
   ]
  },
  {
   "cell_type": "markdown",
   "metadata": {},
   "source": [
    "Случайный лес"
   ]
  },
  {
   "cell_type": "code",
   "execution_count": 22,
   "metadata": {},
   "outputs": [
    {
     "name": "stdout",
     "output_type": "stream",
     "text": [
      "0.5763779527559055\n",
      "15\n",
      "41\n"
     ]
    }
   ],
   "source": [
    "\n",
    "#max_depth = 16\n",
    "max_f1_score_forest = 0\n",
    "best_depth_forest = 0\n",
    "best_est = 0\n",
    "for est in range(1, 152, 10):\n",
    "    for depth in range(1, 16):\n",
    "        model = RandomForestClassifier(max_depth=depth, random_state=12345, n_estimators=est)\n",
    "        model.fit(features_train, target_train)\n",
    "        predicted_valid = model.predict(features_valid)\n",
    "        f1_score_forest = f1_score(target_valid, predicted_valid)\n",
    "        if f1_score_forest > max_f1_score_forest:\n",
    "            max_f1_score_forest = f1_score_forest\n",
    "            best_depth_forest = depth\n",
    "            best_est=est\n",
    "\n",
    "        \n",
    "print(max_f1_score_forest)\n",
    "print(best_depth_forest)\n",
    "print(best_est)    "
   ]
  },
  {
   "cell_type": "markdown",
   "metadata": {},
   "source": [
    "Модель \"случайный лес\" показала лучшее значение при f1_score=0.576, depth=15, n_estimators=41"
   ]
  },
  {
   "cell_type": "markdown",
   "metadata": {},
   "source": [
    "<div class=\"alert alert-block alert-danger\">\n",
    "<h2><s> Комментарий ревьюера <a class=\"tocSkip\"></h2>\n",
    "  \n",
    "<b>На доработку🤔:</b>\n",
    " \n",
    "В лесе необходимо подобрать минимум глубину и количество оценщиков (эстиматоров, деревьев). Можно сделать в двойном цикле:\n",
    "    \n",
    "`for est in range(10, 151, 10):\n",
    "    for depth in range(1, 16):\n",
    "        model = RandomForestClassifier(random_state=12345, n_estimators=est, max_depth=depth)`\n",
    "   \n",
    "\n",
    "Глубину нужно бы взять поглубже.    \n",
    "    \n",
    "</div>"
   ]
  },
  {
   "cell_type": "markdown",
   "metadata": {},
   "source": [
    "Логистическая регрессия"
   ]
  },
  {
   "cell_type": "code",
   "execution_count": 23,
   "metadata": {},
   "outputs": [
    {
     "name": "stdout",
     "output_type": "stream",
     "text": [
      "0.30131826741996237\n"
     ]
    }
   ],
   "source": [
    "model = LogisticRegression(random_state=12345, max_iter=1000)\n",
    "model.fit(features_train, target_train)\n",
    "predicted_valid = model.predict(features_valid)\n",
    "score = f1_score(target_valid, predicted_valid)\n",
    "print(score)"
   ]
  },
  {
   "cell_type": "markdown",
   "metadata": {},
   "source": [
    "**Вывод:** лучше всего себя показала модель \"случайный лес\" со значением f1_score=0.576"
   ]
  },
  {
   "cell_type": "markdown",
   "metadata": {},
   "source": [
    "**Комментарий:** спасибо за совет! Да, действительно нужно было провести энкодинг, сейчас удалось провести обучение модели"
   ]
  },
  {
   "cell_type": "markdown",
   "metadata": {},
   "source": [
    "## Борьба с дисбалансом"
   ]
  },
  {
   "cell_type": "markdown",
   "metadata": {},
   "source": [
    "Борьба с дисбалансом заключается в смешивании данных с помощью 2 шагов: увеличение и уменьшение выборки"
   ]
  },
  {
   "cell_type": "markdown",
   "metadata": {},
   "source": [
    "Увеличение выборки"
   ]
  },
  {
   "cell_type": "code",
   "execution_count": 24,
   "metadata": {},
   "outputs": [],
   "source": [
    "def upsample(features, target, repeat):\n",
    "    features_zeros = features[target == 0]\n",
    "    features_ones = features[target == 1]\n",
    "    target_zeros = target[target == 0]\n",
    "    target_ones = target[target == 1]\n",
    "\n",
    "    features_upsampled = pd.concat([features_zeros] + [features_ones] * repeat)\n",
    "    target_upsampled = pd.concat([target_zeros] + [target_ones] * repeat)\n",
    "    \n",
    "    features_upsampled, target_upsampled = shuffle(\n",
    "        features_upsampled, target_upsampled, random_state=12345)\n",
    "    \n",
    "    return features_upsampled, target_upsampled"
   ]
  },
  {
   "cell_type": "code",
   "execution_count": 25,
   "metadata": {},
   "outputs": [],
   "source": [
    "features_balance_train, target_balance_train = upsample(features_train, target_train, 2)"
   ]
  },
  {
   "cell_type": "markdown",
   "metadata": {},
   "source": [
    "<div class=\"alert alert-block alert-danger\" style=\"border-radius: 15px; box-shadow: 4px 4px 4px; border: 1px solid \">\n",
    "<h2><s> Комментарий ревьюера #2 <a class=\"tocSkip\"></h2>\n",
    "  \n",
    "<b>На доработку🤔:</b>\n",
    " \n",
    "Когда мы используем апсемплинг, мы берем строки редкого класса и дублируем их столько раз, какой коэффициент укажем.\n",
    "    \n",
    "Здесь ты дублируешь редкий класс в 10 раз. У нас же, как мы увидели раньше, дисбаланс составляет 1:4. То есть, теперь окажется, что бывший редкий класс будет в 2,5 раза чаще встречаться.\n",
    "    \n",
    "Правильно будет довести баланс классов до 1:1, то есть, умножить на 4 (подав такой коэффициент в функцию). И думаю, логично будет использовать апсемплинг как отдельный метод борьбы с дисбалансом классов, а даунсемплинг − как другой.\n",
    "    \n",
    "***\n",
    "    \n",
    "Однако можно  и объидинить эти методы, например, если сделать апсемплинг с коэффициентом 2, а затем подать апсемплированную выборку в даунсемплинг с коэффициентом 0.5. Тогда мы сначала удвоим строки с редким классом, затем вдвое сократим строки с частым, а в итоге добьемся равенства классов. Нужно выбрать - или совмещаем методы, или используем два разных. Авторы проекта предполагали, что будем использовать апсемплинг и даунсемплинг как разные методы.\n",
    "\n",
    "</div>\n"
   ]
  },
  {
   "cell_type": "markdown",
   "metadata": {},
   "source": [
    "Уменьшение выборки"
   ]
  },
  {
   "cell_type": "code",
   "execution_count": 26,
   "metadata": {},
   "outputs": [],
   "source": [
    "def downsample(features, target, fraction):\n",
    "    features_zeros = features[target == 0]\n",
    "    features_ones = features[target == 1]\n",
    "    target_zeros = target[target == 0]\n",
    "    target_ones = target[target == 1]\n",
    "\n",
    "    features_downsampled = pd.concat(\n",
    "        [features_zeros.sample(frac=fraction, random_state=12345)] + [features_ones])\n",
    "    target_downsampled = pd.concat(\n",
    "        [target_zeros.sample(frac=fraction, random_state=12345)] + [target_ones])\n",
    "    \n",
    "    features_downsampled, target_downsampled = shuffle(\n",
    "        features_downsampled, target_downsampled, random_state=12345)\n",
    "    \n",
    "    return features_downsampled, target_downsampled"
   ]
  },
  {
   "cell_type": "code",
   "execution_count": 27,
   "metadata": {},
   "outputs": [],
   "source": [
    "features_balance_train, target_balance_train = downsample(features_balance_train, target_balance_train, 0.5)\n",
    "features_train, target_train = features_balance_train, target_balance_train"
   ]
  },
  {
   "cell_type": "markdown",
   "metadata": {},
   "source": [
    "<div class=\"alert alert-block alert-danger\">\n",
    "<h2><s> Комментарий ревьюера 2<a class=\"tocSkip\"></h2>\n",
    "  \n",
    "<b>На доработку🤔:</b>\n",
    " \n",
    "Даунсемплинг также нужно довести до баланса классов 1:1. У нас дисбаланс 1:4, значит, частый класс умножаем на четверть, если используем этот метод как самостоятельный.\n",
    "\n",
    "</div>"
   ]
  },
  {
   "cell_type": "markdown",
   "metadata": {},
   "source": [
    "**Вывод:** на данном этапе для улучшения показателя метрики f1_score был минимизирован дисбаланс классов с помощью функций увеличении и уменьшении выборки, которые использовались для обучающих данных."
   ]
  },
  {
   "cell_type": "markdown",
   "metadata": {},
   "source": [
    "<div class=\"alert alert-block alert-danger\">\n",
    "<h2><s> Комментарий ревьюера 2<a class=\"tocSkip\"></h2>\n",
    "  \n",
    "<b>На доработку🤔:</b>\n",
    " \n",
    "Tестирование - это третий шаг в нашем цикле работы с моделями. 1) подготовка+анализ 2) исследование моделей 3) тестирование. На тестировании мы смотрим лучшую модель, которую нашли на втором шаге, не трогаем валидационную выборку, используем тестовую выборку и уже не подбираем гиперпараметры. \n",
    "    \n",
    "Предлагаю перенести подзаголовок с тестированием ниже, к тому месту проекта, где мы действительно делаем тестирование.\n",
    "\n",
    "</div>\n"
   ]
  },
  {
   "cell_type": "markdown",
   "metadata": {},
   "source": [
    "Продублируем ту же процедуру, а именно нахождение метрики f1_score после борьбы с дисбалансом"
   ]
  },
  {
   "cell_type": "markdown",
   "metadata": {},
   "source": [
    "Дерево решений"
   ]
  },
  {
   "cell_type": "code",
   "execution_count": 28,
   "metadata": {},
   "outputs": [
    {
     "name": "stdout",
     "output_type": "stream",
     "text": [
      "0.5441176470588235\n",
      "7\n"
     ]
    }
   ],
   "source": [
    "max_depth = 10\n",
    "max_f1_score_tree = 0\n",
    "best_depth_tree = 0\n",
    "best_model_tree = None\n",
    "for depth in range(1, max_depth+1):\n",
    "    model = DecisionTreeClassifier(max_depth=depth, random_state=12345, class_weight='balanced')\n",
    "    model.fit(features_train, target_train)\n",
    "    predicted_valid = model.predict(features_valid)\n",
    "    f1_score_tree = f1_score(target_valid, predicted_valid)\n",
    "    if f1_score_tree > max_f1_score_tree:\n",
    "        max_f1_score_tree = f1_score_tree\n",
    "        best_depth_tree = depth\n",
    "        best_model_tree = model\n",
    "        \n",
    "print(max_f1_score_tree)\n",
    "print(best_depth_tree)"
   ]
  },
  {
   "cell_type": "markdown",
   "metadata": {},
   "source": [
    "Случайный лес"
   ]
  },
  {
   "cell_type": "code",
   "execution_count": 29,
   "metadata": {},
   "outputs": [
    {
     "name": "stdout",
     "output_type": "stream",
     "text": [
      "0.6081081081081081\n",
      "12\n",
      "111\n"
     ]
    }
   ],
   "source": [
    "max_f1_score_forest = 0\n",
    "best_depth_forest = 0\n",
    "best_est = 0\n",
    "best_model_forest = None\n",
    "for est in range(1, 152, 10):\n",
    "    for depth in range(1, 16):\n",
    "        model = RandomForestClassifier(max_depth=depth, random_state=12345, n_estimators=est, class_weight='balanced')\n",
    "        model.fit(features_train, target_train)\n",
    "        predicted_valid = model.predict(features_valid)\n",
    "        f1_score_forest = f1_score(target_valid, predicted_valid)\n",
    "        if f1_score_forest > max_f1_score_forest:\n",
    "            max_f1_score_forest = f1_score_forest\n",
    "            best_depth_forest = depth\n",
    "            best_est=est\n",
    "            best_model_forest = model\n",
    "\n",
    "        \n",
    "print(max_f1_score_forest)\n",
    "print(best_depth_forest)\n",
    "print(best_est)"
   ]
  },
  {
   "cell_type": "markdown",
   "metadata": {},
   "source": [
    "<div class=\"alert alert-success\">\n",
    "<h2> Комментарий ревьюера #2 <a class=\"tocSkip\"> </h2>\n",
    "\n",
    "👍 Здесь по обучению все верно.\n",
    "</div>\n"
   ]
  },
  {
   "cell_type": "markdown",
   "metadata": {},
   "source": [
    "Логистическая регрессия"
   ]
  },
  {
   "cell_type": "code",
   "execution_count": 30,
   "metadata": {},
   "outputs": [
    {
     "name": "stdout",
     "output_type": "stream",
     "text": [
      "0.4748201438848921\n"
     ]
    }
   ],
   "source": [
    "model = LogisticRegression(random_state=12345, max_iter=1000, class_weight='balanced')\n",
    "model.fit(features_train, target_train)\n",
    "predicted_valid = model.predict(features_valid)\n",
    "score = f1_score(target_valid, predicted_valid)\n",
    "best_model_log = model\n",
    "print(score)"
   ]
  },
  {
   "cell_type": "markdown",
   "metadata": {},
   "source": [
    "**Вывод:** в текущем разделе были минимизирован дисбаланс классов, затем снова была рассмотрена метрика f1_score рассмотрена на валидационной выборке, где опять же лучшего всего показала модель \"случайный лес\" уже с показателем f1_score=0.608 при depth=12, n_estimators=111."
   ]
  },
  {
   "cell_type": "markdown",
   "metadata": {},
   "source": [
    "## Тестирование модели"
   ]
  },
  {
   "cell_type": "markdown",
   "metadata": {},
   "source": [
    "<div class=\"alert alert-warning\">\n",
    "<h2> Комментарий ревьюера  #2 <a class=\"tocSkip\"> </h2>\n",
    "    \n",
    "<b>Некоторые замечания и рекомендации💡:</b> \n",
    "\n",
    "Если дальше переходим к тестовой выборке, то здесь можно обозначить подзаголовок «Тестирование».\n",
    "       \n",
    "</div>"
   ]
  },
  {
   "cell_type": "markdown",
   "metadata": {},
   "source": [
    "Найдём f1_score разных моделей на тестовой выборке"
   ]
  },
  {
   "cell_type": "code",
   "execution_count": 31,
   "metadata": {},
   "outputs": [
    {
     "name": "stdout",
     "output_type": "stream",
     "text": [
      "Дерево решений: f1_score - 0.584070796460177\n",
      "Случайный лес: f1_score - 0.6371308016877637\n",
      "Логистическая регрессия: f1_score - 0.5008431703204047\n"
     ]
    }
   ],
   "source": [
    "predicted_test_tree = best_model_tree.predict(features_test)\n",
    "predicted_test_forest = best_model_forest.predict(features_test)\n",
    "predicted_test_log = best_model_log.predict(features_test)\n",
    "\n",
    "score_tree = f1_score(predicted_test_tree,target_test)\n",
    "score_forest = f1_score(predicted_test_forest,target_test)\n",
    "score_log = f1_score(predicted_test_log,target_test)\n",
    "\n",
    "print(f'Дерево решений: f1_score - {score_tree}')\n",
    "print(f'Случайный лес: f1_score - {score_forest}')\n",
    "print(f'Логистическая регрессия: f1_score - {score_log}')"
   ]
  },
  {
   "cell_type": "markdown",
   "metadata": {},
   "source": [
    "**Вывод:** в текущем разделе были снова проверены все модели c помощью метрики f1_score уже на тестовой выборке, где также лучшего всего показала модель \"случайный лес\"."
   ]
  },
  {
   "cell_type": "markdown",
   "metadata": {},
   "source": [
    "### Метрика AUC-ROC"
   ]
  },
  {
   "cell_type": "markdown",
   "metadata": {},
   "source": [
    "Построим ROC-кривые для логистической регрессии и изобразим их на графике. "
   ]
  },
  {
   "cell_type": "code",
   "execution_count": 32,
   "metadata": {},
   "outputs": [
    {
     "data": {
      "image/png": "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\n",
      "text/plain": [
       "<Figure size 432x288 with 1 Axes>"
      ]
     },
     "metadata": {
      "needs_background": "light"
     },
     "output_type": "display_data"
    }
   ],
   "source": [
    "#Дерево решений\n",
    "probabilities_valid_tree = best_model_tree.predict_proba(features_valid)\n",
    "probabilities_one_valid_tree = probabilities_valid_tree[:, 1]\n",
    "fpr_tree, tpr_tree, thresholds_tree = roc_curve(target_valid, probabilities_one_valid_tree)\n",
    "\n",
    "#Случайный лес\n",
    "probabilities_valid_forest = best_model_forest.predict_proba(features_valid)\n",
    "probabilities_one_valid_forest = probabilities_valid_forest[:, 1]\n",
    "fpr_forest, tpr_forest, thresholds_forest = roc_curve(target_valid, probabilities_one_valid_forest) \n",
    "\n",
    "#Логистическая регрессия\n",
    "probabilities_valid_log = best_model_log.predict_proba(features_valid)\n",
    "probabilities_one_valid_log = probabilities_valid_log[:, 1]\n",
    "fpr_log, tpr_log, thresholds_log = roc_curve(target_valid, probabilities_one_valid_log) \n",
    "\n",
    "plt.figure()\n",
    "\n",
    "# Графики\n",
    "plt.plot(fpr_tree, tpr_tree)\n",
    "# plt.legend(['Дерево решений'])\n",
    "plt.plot(fpr_forest, tpr_forest)\n",
    "# plt.legend(['Случайный лес'])\n",
    "plt.plot(fpr_log, tpr_log)\n",
    "plt.legend(['Дерево решений','Случайный лес','Логистическая регрессия'])\n",
    "\n",
    "# ROC-кривая случайной модели\n",
    "plt.plot([0, 1], [0, 1], linestyle='--')\n",
    "\n",
    "# установка границ от до 1 по обеим осям\n",
    "plt.xlim([-0.0,1.0])\n",
    "plt.ylim([-0.0,1.0])\n",
    "\n",
    "# подпись осей \"False Positive Rate\" и \"True Positive Rate\" >\n",
    "plt.xlabel('False Positive Rate')\n",
    "plt.ylabel('True Positive Rate')\n",
    "\n",
    "# Название графика\n",
    "plt.title('ROC-кривая')\n",
    "plt.grid(True)\n",
    "\n",
    "plt.show()"
   ]
  },
  {
   "cell_type": "markdown",
   "metadata": {},
   "source": [
    "**Вывод:** ROC-кривые показали, что все построенные модели качественные, т.к. все линии расположены выше ROC-кривой, т.е. площадь образованных под линией графика фигур значительно больше 0.5"
   ]
  },
  {
   "cell_type": "markdown",
   "metadata": {},
   "source": [
    "<div class=\"alert alert-info\">\n",
    "    <b>Комментарий:</b>\n",
    "не совсем понял, почему не построилась линия \"дерева решений\"?\n",
    "</div>\n"
   ]
  },
  {
   "cell_type": "markdown",
   "metadata": {},
   "source": [
    "<div class=\"alert alert-warning\">\n",
    "<h2> Комментарий ревьюера  #2 <a class=\"tocSkip\"> </h2>\n",
    "    \n",
    "<b>Некоторые замечания и рекомендации💡:</b> \n",
    "\n",
    "Ответ: из-за строки `fpr_log, tpr_log, thresholds_log = roc_curve(target_valid, probabilities_one_valid_tree)`, где ты в линейную регрессию передаешь график дерева, после чего этот график полностью копирует и перекрывает «дерево».\n",
    "    \n",
    "Совет: найти ошибку в таких случаях проще всего, отдельно запустив график дерева (любой потенциально проблемный участок кода, который сможет отработать изолированно). Так мы поймем, ошибка в нем или нет. Я запустил, увидел, что все работает, что кривая идентична кривой регрессии, соответственно, почему-то на месте регрессии у нас график от дерева. \n",
    "       \n",
    "</div>"
   ]
  },
  {
   "cell_type": "code",
   "execution_count": 34,
   "metadata": {},
   "outputs": [
    {
     "data": {
      "image/png": "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\n",
      "text/plain": [
       "<Figure size 432x288 with 1 Axes>"
      ]
     },
     "metadata": {
      "needs_background": "light"
     },
     "output_type": "display_data"
    }
   ],
   "source": [
    "# код ревьюера\n",
    "\n",
    "#Дерево решений\n",
    "probabilities_valid_tree = best_model_tree.predict_proba(features_valid)\n",
    "probabilities_one_valid_tree = probabilities_valid_tree[:, 1]\n",
    "fpr_tree, tpr_tree, thresholds_tree = roc_curve(target_valid, probabilities_one_valid_tree)\n",
    "\n",
    "plt.figure()\n",
    "\n",
    "# Графики\n",
    "plt.plot(fpr_tree, tpr_tree)\n",
    "# plt.legend(['Дерево решений'])\n",
    "\n",
    "plt.legend(['Дерево решений'])\n",
    "\n",
    "# ROC-кривая случайной модели\n",
    "plt.plot([0, 1], [0, 1], linestyle='--')\n",
    "\n",
    "# установка границ от до 1 по обеим осям\n",
    "plt.xlim([-0.0,1.0])\n",
    "plt.ylim([-0.0,1.0])\n",
    "\n",
    "# подпись осей \"False Positive Rate\" и \"True Positive Rate\" >\n",
    "plt.xlabel('False Positive Rate')\n",
    "plt.ylabel('True Positive Rate')\n",
    "\n",
    "# Название графика\n",
    "plt.title('ROC-кривая')\n",
    "plt.grid(True)\n",
    "\n",
    "plt.show()"
   ]
  },
  {
   "cell_type": "markdown",
   "metadata": {},
   "source": [
    "## Общий вывод"
   ]
  },
  {
   "cell_type": "markdown",
   "metadata": {},
   "source": [
    "В данном проекте был изучены данные клиентов банка «Бета-Банка», где потребовалось заполнить данные в столбце, отвечающем за то, сколько лет человек является клиентом банка. Эти пропуски были заполнены медианным значением. Перед тем, как данные разбить на выборки, были удалены столбцы 'RowNumber', 'CustomerId', 'Surname', которые почти никак не повлияют на обучение данных, затем данные дважды преобразовались с помощью прямого и порядкового кодирований. \n",
    "\n",
    "Данные были разбиты по столбцам на целевой признак (ответы) - столбец 'Exited' и признаки(вопросы) - все остальные столбцы, по строкам на обучающие, валидационные и тестовые данные в соотношении 3:1:1 (= 60%:20%:20%)\n",
    "\n",
    "Далее были исследованы три модели машинного обучения, связанные с классификацией данных, без учета дисбаланса классов: \"дерево решений\", \"случайный лес\", \"логистическая регрессия\". Лучше всего из 3 моделей показала результат - модель \"случайный лес\".\n",
    "\n",
    "Затем для устранения дисбаланса классов, точнее её минимизации, были использованы увеличение и уменьшение тренировочной выборки с её перемешиванием.\n",
    "\n",
    "После снова были исследованы три модели машинного обучения: \"дерево решений\", \"случайный лес\", \"логистическая регрессия\". Также лучше всего из 3 моделей показала результат - модель \"случайный лес\" с результатом f1_score = 0.637 и был построен график ROC-кривой, где выяснено, что модели обучены корректно, а лучшей из них является - Random Forest (Случайный лес)\n",
    "\n",
    "Таким образом, банку «Бета-Банка» рекомендуется модель \"случайный лес\" для прогноза, уйдёт клиент из банка в ближайшее время или нет."
   ]
  },
  {
   "cell_type": "markdown",
   "metadata": {},
   "source": [
    "<div style=\"border:solid Chocolate 2px; padding: 40px\">\n",
    "\n",
    "**Общий вывод по проекту**\n",
    "    \n",
    "Неплохое начало, многие вещи реализованы очень хорошо: обучение моделей, разделение на выборки. Есть верные решения и по предобработке. Однако есть и что поправить.\n",
    "    \n",
    "    \n",
    "**На что стоит обратить внимание🤔**\n",
    "    \n",
    "* Необходимо изменить подход к заполнению пропусков. Нули нам не подойдут.\n",
    "* Важно удалить ненужные колонки.\n",
    "* Важно сделать экнодинг - перевести все объекты в числа. Так как ниже используем линейные модели, нам подойдет прямое кодирование с помощью get_dummies(). Можно использовать более продвинутый вариант от Sklearn. Оставлю инструкцию ниже.\n",
    "* Нужно масштабировать данные после разбиения на выборки. Не забываем про тестовую.\n",
    "* В Лесе важно подбирать не только глубину, но и количество деревьев. \n",
    "* У всех моделей важно измерить ROC_AUC по вероятностям классов.\n",
    "* Затем нужно будет доделать проект. Напомню, что гиперпараметры нужно будет заново подбирать в каждом применении методики борьбы с дисбалансом классов (апсемплинг, взешенные классы итд).\n",
    "* Эти и остальные замечания я также написал по ходу проекта.\n",
    "    \n",
    "**Желаю удачи и жду твой проект на повторное ревью!**😉\n",
    "    \n",
    "    \n",
    "</div>"
   ]
  },
  {
   "cell_type": "markdown",
   "metadata": {},
   "source": [
    "<div style=\"border:solid Chocolate 2px; padding: 40px\">\n",
    "\n",
    "**Комментарий ко второй проверке**\n",
    "\n",
    "Спасибо за доработку. Практически все верно. Однако еще кое-что осталось. Я оставлял красные комментарии, получилось многовато, но я рассудил, что лучше обозначу все моменты, чем мы что-то пропустим. Итак:\n",
    "    \n",
    "* Важно сделать именно прямое кодирование признаков (убираем порядковое).\n",
    "* Возможно, чуть улучшим результат, если в масштабирование не будем подавать бинарные признаки.\n",
    "* Апсемплинг и даунсемплинг важно довести до баланса классов (можно сделать как два разных метода).\n",
    "* До тестирования тестовую выборку не трогаем, а после тестирования уже не подбираем гиперпараметры (здесь нужно поменять место подзаголовка в проекте).\n",
    "* Нужно достичь качества F1>0.59 на тестовой выборке.\n",
    "\n",
    "**Желаю удачи и жду твой проект на повторное ревью!**😉\n",
    "</div>\n",
    "\n"
   ]
  },
  {
   "cell_type": "markdown",
   "metadata": {},
   "source": [
    "<div style=\"border:solid Chocolate 2px; padding: 40px\">\n",
    "\n",
    "**Комментарий к финальной проверке**\n",
    "\n",
    "Спасибо за доработку. Критичных комментариев нет. \n",
    "    \n",
    "В графике ROC_AUC действительно есть путаница с отображением кривой разных моделей, ошибка в названии переменных. Думаю, что технической сложности исправить не будет, поэтому не стану из-за этого направлять проект на доработку заново. \n",
    "\n",
    "Желаю удачи в дальнейшей учебе!\n",
    "\n",
    "</div>\n",
    "\n"
   ]
  },
  {
   "cell_type": "markdown",
   "metadata": {},
   "source": [
    "## Чек-лист готовности проекта"
   ]
  },
  {
   "cell_type": "markdown",
   "metadata": {},
   "source": [
    "Поставьте 'x' в выполненных пунктах. Далее нажмите Shift+Enter."
   ]
  },
  {
   "cell_type": "markdown",
   "metadata": {},
   "source": [
    "- [x]  Jupyter Notebook открыт\n",
    "- [x]  Весь код выполняется без ошибок\n",
    "- [x]  Ячейки с кодом расположены в порядке исполнения\n",
    "- [x]  Выполнен шаг 1: данные подготовлены\n",
    "- [x]  Выполнен шаг 2: задача исследована\n",
    "    - [x]  Исследован баланс классов\n",
    "    - [x]  Изучены модели без учёта дисбаланса\n",
    "    - [x]  Написаны выводы по результатам исследования\n",
    "- [x]  Выполнен шаг 3: учтён дисбаланс\n",
    "    - [x]  Применено несколько способов борьбы с дисбалансом\n",
    "    - [x]  Написаны выводы по результатам исследования\n",
    "- [x]  Выполнен шаг 4: проведено тестирование\n",
    "- [x]  Удалось достичь *F1*-меры не менее 0.59\n",
    "- [x]  Исследована метрика *AUC-ROC*"
   ]
  },
  {
   "cell_type": "code",
   "execution_count": null,
   "metadata": {},
   "outputs": [],
   "source": []
  }
 ],
 "metadata": {
  "ExecuteTimeLog": [
   {
    "duration": 375,
    "start_time": "2023-03-24T10:48:52.896Z"
   },
   {
    "duration": 398,
    "start_time": "2023-03-24T10:49:05.567Z"
   },
   {
    "duration": 30,
    "start_time": "2023-03-24T11:12:08.565Z"
   },
   {
    "duration": 5,
    "start_time": "2023-03-24T11:13:24.310Z"
   },
   {
    "duration": 7,
    "start_time": "2023-03-24T11:16:38.121Z"
   },
   {
    "duration": 6,
    "start_time": "2023-03-24T11:16:58.742Z"
   },
   {
    "duration": 8,
    "start_time": "2023-03-24T11:25:01.245Z"
   },
   {
    "duration": 453,
    "start_time": "2023-03-24T16:13:47.037Z"
   },
   {
    "duration": 170,
    "start_time": "2023-03-24T16:13:49.284Z"
   },
   {
    "duration": 38,
    "start_time": "2023-03-24T16:13:51.737Z"
   },
   {
    "duration": 10,
    "start_time": "2023-03-24T16:29:05.067Z"
   },
   {
    "duration": 23,
    "start_time": "2023-03-24T16:45:44.955Z"
   },
   {
    "duration": 4,
    "start_time": "2023-03-24T16:49:30.230Z"
   },
   {
    "duration": 13,
    "start_time": "2023-03-24T16:50:08.977Z"
   },
   {
    "duration": 2,
    "start_time": "2023-03-24T16:50:17.297Z"
   },
   {
    "duration": 41,
    "start_time": "2023-03-24T16:50:19.191Z"
   },
   {
    "duration": 28,
    "start_time": "2023-03-24T16:50:20.598Z"
   },
   {
    "duration": 13,
    "start_time": "2023-03-24T16:50:23.063Z"
   },
   {
    "duration": 3,
    "start_time": "2023-03-24T16:50:26.446Z"
   },
   {
    "duration": 13,
    "start_time": "2023-03-24T16:50:29.982Z"
   },
   {
    "duration": 346,
    "start_time": "2023-03-25T19:40:01.232Z"
   },
   {
    "duration": 347,
    "start_time": "2023-03-25T19:40:03.038Z"
   },
   {
    "duration": 29,
    "start_time": "2023-03-25T19:40:05.087Z"
   },
   {
    "duration": 9,
    "start_time": "2023-03-25T19:40:08.685Z"
   },
   {
    "duration": 3,
    "start_time": "2023-03-25T19:40:13.620Z"
   },
   {
    "duration": 10,
    "start_time": "2023-03-25T19:40:15.381Z"
   },
   {
    "duration": 72,
    "start_time": "2023-03-25T20:42:19.565Z"
   },
   {
    "duration": 38,
    "start_time": "2023-03-25T20:42:29.560Z"
   },
   {
    "duration": 643,
    "start_time": "2023-03-25T20:52:50.744Z"
   },
   {
    "duration": 46,
    "start_time": "2023-03-25T20:52:53.039Z"
   },
   {
    "duration": 34,
    "start_time": "2023-03-25T20:52:55.054Z"
   },
   {
    "duration": 11,
    "start_time": "2023-03-25T20:52:57.154Z"
   },
   {
    "duration": 15,
    "start_time": "2023-03-25T20:52:59.065Z"
   },
   {
    "duration": 11,
    "start_time": "2023-03-25T20:52:59.840Z"
   },
   {
    "duration": 59,
    "start_time": "2023-03-25T20:53:02.555Z"
   },
   {
    "duration": 6,
    "start_time": "2023-03-25T20:56:33.922Z"
   },
   {
    "duration": 3,
    "start_time": "2023-03-25T21:01:39.918Z"
   },
   {
    "duration": 5,
    "start_time": "2023-03-25T21:03:04.962Z"
   },
   {
    "duration": 7,
    "start_time": "2023-03-25T21:03:52.617Z"
   },
   {
    "duration": 33,
    "start_time": "2023-03-25T21:08:11.133Z"
   },
   {
    "duration": 8,
    "start_time": "2023-03-25T21:08:13.282Z"
   },
   {
    "duration": 6,
    "start_time": "2023-03-25T21:08:15.313Z"
   },
   {
    "duration": 5,
    "start_time": "2023-03-25T21:08:16.960Z"
   },
   {
    "duration": 2,
    "start_time": "2023-03-25T21:13:24.786Z"
   },
   {
    "duration": 39,
    "start_time": "2023-03-25T21:13:28.121Z"
   },
   {
    "duration": 24,
    "start_time": "2023-03-25T21:13:31.054Z"
   },
   {
    "duration": 12,
    "start_time": "2023-03-25T21:13:35.505Z"
   },
   {
    "duration": 3,
    "start_time": "2023-03-25T21:13:39.216Z"
   },
   {
    "duration": 9,
    "start_time": "2023-03-25T21:13:40.587Z"
   },
   {
    "duration": 10,
    "start_time": "2023-03-25T21:13:42.531Z"
   },
   {
    "duration": 35,
    "start_time": "2023-03-25T21:13:44.618Z"
   },
   {
    "duration": 4,
    "start_time": "2023-03-25T21:13:50.496Z"
   },
   {
    "duration": 6,
    "start_time": "2023-03-25T21:13:52.154Z"
   },
   {
    "duration": 6,
    "start_time": "2023-03-25T21:13:53.792Z"
   },
   {
    "duration": 1216,
    "start_time": "2023-03-26T08:50:02.041Z"
   },
   {
    "duration": 168,
    "start_time": "2023-03-26T08:50:04.139Z"
   },
   {
    "duration": 35,
    "start_time": "2023-03-26T08:50:05.585Z"
   },
   {
    "duration": 13,
    "start_time": "2023-03-26T08:50:07.943Z"
   },
   {
    "duration": 5,
    "start_time": "2023-03-26T08:50:10.352Z"
   },
   {
    "duration": 11,
    "start_time": "2023-03-26T08:50:11.745Z"
   },
   {
    "duration": 8,
    "start_time": "2023-03-26T08:50:14.407Z"
   },
   {
    "duration": 51,
    "start_time": "2023-03-26T08:50:16.729Z"
   },
   {
    "duration": 5,
    "start_time": "2023-03-26T08:50:21.782Z"
   },
   {
    "duration": 9,
    "start_time": "2023-03-26T08:50:33.035Z"
   },
   {
    "duration": 8,
    "start_time": "2023-03-26T08:50:34.973Z"
   },
   {
    "duration": 133,
    "start_time": "2023-03-26T09:03:58.236Z"
   },
   {
    "duration": 3,
    "start_time": "2023-03-26T09:04:46.683Z"
   },
   {
    "duration": 3,
    "start_time": "2023-03-26T09:14:43.419Z"
   },
   {
    "duration": 20,
    "start_time": "2023-03-26T09:15:13.792Z"
   },
   {
    "duration": 24,
    "start_time": "2023-03-26T09:15:40.275Z"
   },
   {
    "duration": 29,
    "start_time": "2023-03-26T10:44:10.719Z"
   },
   {
    "duration": 21,
    "start_time": "2023-03-26T10:45:38.618Z"
   },
   {
    "duration": 12,
    "start_time": "2023-03-26T10:45:48.458Z"
   },
   {
    "duration": 32,
    "start_time": "2023-03-26T10:47:55.835Z"
   },
   {
    "duration": 20,
    "start_time": "2023-03-26T10:48:55.441Z"
   },
   {
    "duration": 22,
    "start_time": "2023-03-26T10:49:45.841Z"
   },
   {
    "duration": 20,
    "start_time": "2023-03-26T10:50:04.873Z"
   },
   {
    "duration": 32,
    "start_time": "2023-03-26T10:51:11.785Z"
   },
   {
    "duration": 44,
    "start_time": "2023-03-26T10:51:27.770Z"
   },
   {
    "duration": 4,
    "start_time": "2023-03-26T10:52:27.877Z"
   },
   {
    "duration": 29,
    "start_time": "2023-03-26T10:52:36.261Z"
   },
   {
    "duration": 11,
    "start_time": "2023-03-26T10:53:57.216Z"
   },
   {
    "duration": 21,
    "start_time": "2023-03-26T10:54:24.304Z"
   },
   {
    "duration": 3618,
    "start_time": "2023-03-26T10:54:57.488Z"
   },
   {
    "duration": 4,
    "start_time": "2023-03-26T10:55:07.549Z"
   },
   {
    "duration": 35,
    "start_time": "2023-03-26T10:55:19.138Z"
   },
   {
    "duration": 3,
    "start_time": "2023-03-26T10:55:48.888Z"
   },
   {
    "duration": 3,
    "start_time": "2023-03-26T11:02:24.838Z"
   },
   {
    "duration": 26,
    "start_time": "2023-03-26T11:02:57.568Z"
   },
   {
    "duration": 3,
    "start_time": "2023-03-26T11:03:47.585Z"
   },
   {
    "duration": 22,
    "start_time": "2023-03-26T11:03:57.087Z"
   },
   {
    "duration": 8,
    "start_time": "2023-03-26T11:05:17.147Z"
   },
   {
    "duration": 7,
    "start_time": "2023-03-26T11:05:23.335Z"
   },
   {
    "duration": 10,
    "start_time": "2023-03-26T11:06:00.181Z"
   },
   {
    "duration": 23,
    "start_time": "2023-03-26T11:06:20.837Z"
   },
   {
    "duration": 4,
    "start_time": "2023-03-26T11:08:29.783Z"
   },
   {
    "duration": 21,
    "start_time": "2023-03-26T11:08:38.218Z"
   },
   {
    "duration": 6,
    "start_time": "2023-03-26T11:09:13.576Z"
   },
   {
    "duration": 19,
    "start_time": "2023-03-26T11:09:18.814Z"
   },
   {
    "duration": 3610,
    "start_time": "2023-03-28T06:22:45.439Z"
   },
   {
    "duration": 1155,
    "start_time": "2023-03-28T06:22:50.768Z"
   },
   {
    "duration": 172,
    "start_time": "2023-03-28T06:22:55.426Z"
   },
   {
    "duration": 38,
    "start_time": "2023-03-28T06:22:58.746Z"
   },
   {
    "duration": 15,
    "start_time": "2023-03-28T06:23:03.666Z"
   },
   {
    "duration": 5,
    "start_time": "2023-03-28T06:23:07.680Z"
   },
   {
    "duration": 11,
    "start_time": "2023-03-28T06:23:12.133Z"
   },
   {
    "duration": 8,
    "start_time": "2023-03-28T06:23:16.969Z"
   },
   {
    "duration": 36,
    "start_time": "2023-03-28T06:23:20.944Z"
   },
   {
    "duration": 4,
    "start_time": "2023-03-28T06:23:25.088Z"
   },
   {
    "duration": 8,
    "start_time": "2023-03-28T06:23:27.513Z"
   },
   {
    "duration": 8,
    "start_time": "2023-03-28T06:23:34.465Z"
   },
   {
    "duration": 126,
    "start_time": "2023-03-28T06:23:44.104Z"
   },
   {
    "duration": 21,
    "start_time": "2023-03-28T06:31:57.437Z"
   },
   {
    "duration": 3788,
    "start_time": "2023-03-29T10:39:37.413Z"
   },
   {
    "duration": 1200,
    "start_time": "2023-03-29T10:39:44.675Z"
   },
   {
    "duration": 160,
    "start_time": "2023-03-29T10:39:47.831Z"
   },
   {
    "duration": 34,
    "start_time": "2023-03-29T10:39:49.413Z"
   },
   {
    "duration": 15,
    "start_time": "2023-03-29T10:39:55.304Z"
   },
   {
    "duration": 93,
    "start_time": "2023-03-29T10:45:30.585Z"
   },
   {
    "duration": 492,
    "start_time": "2023-03-29T10:45:37.847Z"
   },
   {
    "duration": 117,
    "start_time": "2023-03-29T10:46:03.665Z"
   },
   {
    "duration": 96,
    "start_time": "2023-03-29T10:48:02.533Z"
   },
   {
    "duration": 7,
    "start_time": "2023-03-29T10:51:16.626Z"
   },
   {
    "duration": 107,
    "start_time": "2023-03-29T10:51:20.003Z"
   },
   {
    "duration": 134,
    "start_time": "2023-03-29T10:51:24.063Z"
   },
   {
    "duration": 155,
    "start_time": "2023-03-29T10:54:46.332Z"
   },
   {
    "duration": 41,
    "start_time": "2023-03-29T10:55:04.272Z"
   },
   {
    "duration": 43,
    "start_time": "2023-03-29T10:57:05.918Z"
   },
   {
    "duration": 23,
    "start_time": "2023-03-29T11:07:27.119Z"
   },
   {
    "duration": 12,
    "start_time": "2023-03-29T11:07:39.388Z"
   },
   {
    "duration": 10,
    "start_time": "2023-03-29T11:08:08.488Z"
   },
   {
    "duration": 12,
    "start_time": "2023-03-29T11:10:14.222Z"
   },
   {
    "duration": 2639,
    "start_time": "2023-03-29T11:11:48.721Z"
   },
   {
    "duration": 5,
    "start_time": "2023-03-29T11:11:53.702Z"
   },
   {
    "duration": 54,
    "start_time": "2023-03-29T11:11:56.571Z"
   },
   {
    "duration": 41,
    "start_time": "2023-03-29T11:12:00.020Z"
   },
   {
    "duration": 15,
    "start_time": "2023-03-29T11:12:01.629Z"
   },
   {
    "duration": 176,
    "start_time": "2023-03-29T11:12:03.471Z"
   },
   {
    "duration": 123,
    "start_time": "2023-03-29T11:12:07.350Z"
   },
   {
    "duration": 8,
    "start_time": "2023-03-29T11:12:10.221Z"
   },
   {
    "duration": 15,
    "start_time": "2023-03-29T11:12:12.472Z"
   },
   {
    "duration": 9,
    "start_time": "2023-03-29T11:12:16.461Z"
   },
   {
    "duration": 60,
    "start_time": "2023-03-29T11:12:18.840Z"
   },
   {
    "duration": 58,
    "start_time": "2023-03-29T11:12:22.952Z"
   },
   {
    "duration": 48,
    "start_time": "2023-03-29T11:12:33.983Z"
   },
   {
    "duration": 59,
    "start_time": "2023-03-29T11:12:47.272Z"
   },
   {
    "duration": 6,
    "start_time": "2023-03-29T11:13:34.271Z"
   },
   {
    "duration": 11,
    "start_time": "2023-03-29T11:13:36.393Z"
   },
   {
    "duration": 8,
    "start_time": "2023-03-29T11:13:45.870Z"
   },
   {
    "duration": 159,
    "start_time": "2023-03-29T11:13:55.479Z"
   },
   {
    "duration": 96,
    "start_time": "2023-03-29T11:14:16.001Z"
   },
   {
    "duration": 1723,
    "start_time": "2023-03-29T11:14:22.871Z"
   },
   {
    "duration": 454,
    "start_time": "2023-03-29T11:14:29.199Z"
   },
   {
    "duration": 36133,
    "start_time": "2023-03-29T11:17:46.353Z"
   },
   {
    "duration": 123504,
    "start_time": "2023-03-29T11:18:28.433Z"
   },
   {
    "duration": 5,
    "start_time": "2023-03-29T11:21:16.392Z"
   },
   {
    "duration": 6,
    "start_time": "2023-03-29T11:24:40.061Z"
   },
   {
    "duration": 8,
    "start_time": "2023-03-29T11:24:42.072Z"
   },
   {
    "duration": 7,
    "start_time": "2023-03-29T11:24:43.751Z"
   },
   {
    "duration": 20,
    "start_time": "2023-03-29T11:24:45.652Z"
   },
   {
    "duration": 12,
    "start_time": "2023-03-29T11:25:09.759Z"
   },
   {
    "duration": 22,
    "start_time": "2023-03-29T11:25:58.282Z"
   },
   {
    "duration": 23,
    "start_time": "2023-03-29T11:26:01.442Z"
   },
   {
    "duration": 26,
    "start_time": "2023-03-29T11:26:18.460Z"
   },
   {
    "duration": 6,
    "start_time": "2023-03-29T11:26:59.816Z"
   },
   {
    "duration": 22,
    "start_time": "2023-03-29T11:27:10.132Z"
   },
   {
    "duration": 108,
    "start_time": "2023-03-29T11:27:13.091Z"
   },
   {
    "duration": 126357,
    "start_time": "2023-03-29T11:27:16.216Z"
   },
   {
    "duration": 48,
    "start_time": "2023-03-29T11:29:38.512Z"
   },
   {
    "duration": 3394,
    "start_time": "2023-03-30T10:56:04.081Z"
   },
   {
    "duration": 1252,
    "start_time": "2023-03-30T10:56:09.554Z"
   },
   {
    "duration": 3,
    "start_time": "2023-03-30T10:56:12.181Z"
   },
   {
    "duration": 100,
    "start_time": "2023-03-30T10:56:13.943Z"
   },
   {
    "duration": 32,
    "start_time": "2023-03-30T10:56:16.662Z"
   },
   {
    "duration": 11,
    "start_time": "2023-03-30T10:56:19.522Z"
   },
   {
    "duration": 558,
    "start_time": "2023-03-30T10:56:22.711Z"
   },
   {
    "duration": 110,
    "start_time": "2023-03-30T10:56:25.944Z"
   },
   {
    "duration": 6,
    "start_time": "2023-03-30T10:56:28.493Z"
   },
   {
    "duration": 145,
    "start_time": "2023-03-30T10:56:33.001Z"
   },
   {
    "duration": 106,
    "start_time": "2023-03-30T10:56:36.515Z"
   },
   {
    "duration": 11,
    "start_time": "2023-03-30T10:56:49.892Z"
   },
   {
    "duration": 6,
    "start_time": "2023-03-30T10:56:54.371Z"
   },
   {
    "duration": 49,
    "start_time": "2023-03-30T10:56:58.592Z"
   },
   {
    "duration": 55,
    "start_time": "2023-03-30T10:57:13.074Z"
   },
   {
    "duration": 62,
    "start_time": "2023-03-30T10:57:36.424Z"
   },
   {
    "duration": 62,
    "start_time": "2023-03-30T11:00:43.334Z"
   },
   {
    "duration": 4,
    "start_time": "2023-03-30T11:00:50.152Z"
   },
   {
    "duration": 6,
    "start_time": "2023-03-30T11:00:51.804Z"
   },
   {
    "duration": 5,
    "start_time": "2023-03-30T11:00:53.414Z"
   },
   {
    "duration": 19,
    "start_time": "2023-03-30T11:00:55.092Z"
   },
   {
    "duration": 96,
    "start_time": "2023-03-30T11:01:17.481Z"
   },
   {
    "duration": 113618,
    "start_time": "2023-03-30T11:01:20.954Z"
   },
   {
    "duration": 202,
    "start_time": "2023-03-30T11:15:33.061Z"
   },
   {
    "duration": 109,
    "start_time": "2023-03-30T11:22:08.861Z"
   },
   {
    "duration": 116600,
    "start_time": "2023-03-30T11:22:11.772Z"
   },
   {
    "duration": 314,
    "start_time": "2023-03-30T11:24:08.374Z"
   },
   {
    "duration": 118717,
    "start_time": "2023-03-30T11:31:10.545Z"
   },
   {
    "duration": 8,
    "start_time": "2023-03-30T12:05:30.022Z"
   },
   {
    "duration": 7,
    "start_time": "2023-03-30T12:06:14.528Z"
   },
   {
    "duration": 6,
    "start_time": "2023-03-30T12:06:18.347Z"
   },
   {
    "duration": 9,
    "start_time": "2023-03-30T12:06:36.099Z"
   },
   {
    "duration": 4,
    "start_time": "2023-03-30T12:12:14.659Z"
   },
   {
    "duration": 47,
    "start_time": "2023-03-30T12:15:40.339Z"
   },
   {
    "duration": 7,
    "start_time": "2023-03-30T12:15:48.658Z"
   },
   {
    "duration": 4,
    "start_time": "2023-03-30T12:15:52.548Z"
   },
   {
    "duration": 28,
    "start_time": "2023-03-30T12:17:38.728Z"
   },
   {
    "duration": 55,
    "start_time": "2023-03-30T12:18:43.159Z"
   },
   {
    "duration": 17,
    "start_time": "2023-03-30T12:19:33.309Z"
   },
   {
    "duration": 59,
    "start_time": "2023-03-30T12:19:44.568Z"
   },
   {
    "duration": 35,
    "start_time": "2023-03-30T12:20:51.729Z"
   },
   {
    "duration": 43,
    "start_time": "2023-03-30T12:21:04.042Z"
   },
   {
    "duration": 42,
    "start_time": "2023-03-30T12:21:37.012Z"
   },
   {
    "duration": 39,
    "start_time": "2023-03-30T12:22:41.371Z"
   },
   {
    "duration": 277,
    "start_time": "2023-03-30T12:22:55.461Z"
   },
   {
    "duration": 5,
    "start_time": "2023-03-30T12:23:49.721Z"
   },
   {
    "duration": 1008,
    "start_time": "2023-03-30T12:24:03.667Z"
   },
   {
    "duration": 1074,
    "start_time": "2023-03-30T12:25:43.499Z"
   },
   {
    "duration": 734,
    "start_time": "2023-03-30T12:26:18.291Z"
   },
   {
    "duration": 5,
    "start_time": "2023-03-30T12:29:58.092Z"
   },
   {
    "duration": 4,
    "start_time": "2023-03-30T12:35:26.180Z"
   },
   {
    "duration": 4,
    "start_time": "2023-03-30T12:35:28.584Z"
   },
   {
    "duration": 44,
    "start_time": "2023-03-30T12:35:29.814Z"
   },
   {
    "duration": 41,
    "start_time": "2023-03-30T12:35:31.294Z"
   },
   {
    "duration": 15,
    "start_time": "2023-03-30T12:35:35.632Z"
   },
   {
    "duration": 131,
    "start_time": "2023-03-30T12:35:41.585Z"
   },
   {
    "duration": 121,
    "start_time": "2023-03-30T12:35:44.133Z"
   },
   {
    "duration": 6,
    "start_time": "2023-03-30T12:35:46.443Z"
   },
   {
    "duration": 7,
    "start_time": "2023-03-30T12:36:25.297Z"
   },
   {
    "duration": 167,
    "start_time": "2023-03-30T12:36:59.939Z"
   },
   {
    "duration": 367,
    "start_time": "2023-03-30T12:37:17.352Z"
   },
   {
    "duration": 15,
    "start_time": "2023-03-30T12:37:25.548Z"
   },
   {
    "duration": 12,
    "start_time": "2023-03-30T12:38:14.835Z"
   },
   {
    "duration": 8,
    "start_time": "2023-03-30T12:38:18.519Z"
   },
   {
    "duration": 50,
    "start_time": "2023-03-30T12:38:22.046Z"
   },
   {
    "duration": 4,
    "start_time": "2023-03-30T12:38:26.036Z"
   },
   {
    "duration": 8,
    "start_time": "2023-03-30T12:42:42.735Z"
   },
   {
    "duration": 762,
    "start_time": "2023-03-30T12:43:00.344Z"
   },
   {
    "duration": 864,
    "start_time": "2023-03-30T12:43:26.023Z"
   },
   {
    "duration": 1030,
    "start_time": "2023-03-30T12:45:24.373Z"
   },
   {
    "duration": 628,
    "start_time": "2023-03-30T12:48:29.158Z"
   },
   {
    "duration": 38,
    "start_time": "2023-03-30T12:52:17.868Z"
   },
   {
    "duration": 5,
    "start_time": "2023-03-30T12:52:26.025Z"
   },
   {
    "duration": 8,
    "start_time": "2023-03-30T12:52:27.836Z"
   },
   {
    "duration": 6,
    "start_time": "2023-03-30T12:52:29.886Z"
   },
   {
    "duration": 39,
    "start_time": "2023-03-30T12:53:42.398Z"
   },
   {
    "duration": 4,
    "start_time": "2023-03-30T12:53:48.558Z"
   },
   {
    "duration": 9,
    "start_time": "2023-03-30T12:53:50.923Z"
   },
   {
    "duration": 6,
    "start_time": "2023-03-30T12:53:52.449Z"
   },
   {
    "duration": 17,
    "start_time": "2023-03-30T12:53:54.276Z"
   },
   {
    "duration": 173,
    "start_time": "2023-03-30T12:54:01.629Z"
   },
   {
    "duration": 198,
    "start_time": "2023-03-30T12:54:06.177Z"
   },
   {
    "duration": 101151,
    "start_time": "2023-03-30T12:54:12.308Z"
   },
   {
    "duration": 151,
    "start_time": "2023-03-30T12:59:14.119Z"
   },
   {
    "duration": 4,
    "start_time": "2023-03-30T13:26:51.073Z"
   },
   {
    "duration": 5,
    "start_time": "2023-03-30T13:30:18.606Z"
   },
   {
    "duration": 13,
    "start_time": "2023-03-30T13:31:55.162Z"
   },
   {
    "duration": 5,
    "start_time": "2023-03-30T13:32:48.001Z"
   },
   {
    "duration": 14,
    "start_time": "2023-03-30T13:33:38.033Z"
   },
   {
    "duration": 11,
    "start_time": "2023-03-30T13:34:40.994Z"
   },
   {
    "duration": 9,
    "start_time": "2023-03-30T13:42:41.625Z"
   },
   {
    "duration": 207,
    "start_time": "2023-03-30T13:46:37.235Z"
   },
   {
    "duration": 98708,
    "start_time": "2023-03-30T13:46:40.082Z"
   },
   {
    "duration": 216,
    "start_time": "2023-03-30T13:49:01.548Z"
   },
   {
    "duration": 3428,
    "start_time": "2023-03-30T16:22:37.697Z"
   },
   {
    "duration": 1538,
    "start_time": "2023-03-30T16:22:44.569Z"
   },
   {
    "duration": 3,
    "start_time": "2023-03-30T16:22:47.191Z"
   },
   {
    "duration": 175,
    "start_time": "2023-03-30T16:22:48.611Z"
   },
   {
    "duration": 28,
    "start_time": "2023-03-30T16:23:36.940Z"
   },
   {
    "duration": 10,
    "start_time": "2023-03-30T16:23:39.491Z"
   },
   {
    "duration": 149,
    "start_time": "2023-03-30T16:23:46.076Z"
   },
   {
    "duration": 98,
    "start_time": "2023-03-30T16:23:48.076Z"
   },
   {
    "duration": 5,
    "start_time": "2023-03-30T16:23:51.618Z"
   },
   {
    "duration": 230,
    "start_time": "2023-03-30T16:23:53.460Z"
   },
   {
    "duration": 10,
    "start_time": "2023-03-30T16:24:01.560Z"
   },
   {
    "duration": 6,
    "start_time": "2023-03-30T16:24:04.680Z"
   },
   {
    "duration": 48,
    "start_time": "2023-03-30T16:24:06.550Z"
   },
   {
    "duration": 4,
    "start_time": "2023-03-30T16:24:11.049Z"
   },
   {
    "duration": 7,
    "start_time": "2023-03-30T16:24:15.180Z"
   },
   {
    "duration": 100,
    "start_time": "2023-03-30T16:24:18.990Z"
   },
   {
    "duration": 657,
    "start_time": "2023-03-30T16:24:30.355Z"
   },
   {
    "duration": 38,
    "start_time": "2023-03-30T16:25:03.647Z"
   },
   {
    "duration": 4,
    "start_time": "2023-03-30T16:25:12.334Z"
   },
   {
    "duration": 5,
    "start_time": "2023-03-30T16:25:16.684Z"
   },
   {
    "duration": 5,
    "start_time": "2023-03-30T16:25:19.347Z"
   },
   {
    "duration": 18,
    "start_time": "2023-03-30T16:25:22.716Z"
   },
   {
    "duration": 188,
    "start_time": "2023-03-30T16:25:36.367Z"
   },
   {
    "duration": 88116,
    "start_time": "2023-03-30T16:25:42.207Z"
   },
   {
    "duration": 54,
    "start_time": "2023-03-30T16:30:11.038Z"
   },
   {
    "duration": 5,
    "start_time": "2023-03-30T16:30:17.477Z"
   },
   {
    "duration": 9,
    "start_time": "2023-03-30T16:30:18.937Z"
   },
   {
    "duration": 4,
    "start_time": "2023-03-30T16:30:22.236Z"
   },
   {
    "duration": 10,
    "start_time": "2023-03-30T16:30:23.054Z"
   },
   {
    "duration": 192,
    "start_time": "2023-03-30T16:30:29.457Z"
   },
   {
    "duration": 108851,
    "start_time": "2023-03-30T16:30:31.836Z"
   },
   {
    "duration": 177,
    "start_time": "2023-03-30T16:32:44.407Z"
   },
   {
    "duration": 206,
    "start_time": "2023-03-30T16:35:11.246Z"
   },
   {
    "duration": 114085,
    "start_time": "2023-03-30T16:37:23.088Z"
   },
   {
    "duration": 208,
    "start_time": "2023-03-30T16:46:37.210Z"
   },
   {
    "duration": 69,
    "start_time": "2023-03-30T16:46:43.834Z"
   },
   {
    "duration": 12,
    "start_time": "2023-03-30T16:51:33.070Z"
   },
   {
    "duration": 65,
    "start_time": "2023-03-30T16:51:50.523Z"
   },
   {
    "duration": 2480,
    "start_time": "2023-03-30T16:55:02.256Z"
   },
   {
    "duration": 4,
    "start_time": "2023-03-30T16:55:04.739Z"
   },
   {
    "duration": 2,
    "start_time": "2023-03-30T16:55:06.373Z"
   },
   {
    "duration": 52,
    "start_time": "2023-03-30T16:55:08.377Z"
   },
   {
    "duration": 27,
    "start_time": "2023-03-30T16:55:10.753Z"
   },
   {
    "duration": 12,
    "start_time": "2023-03-30T16:55:13.482Z"
   },
   {
    "duration": 118,
    "start_time": "2023-03-30T16:55:15.517Z"
   },
   {
    "duration": 96,
    "start_time": "2023-03-30T16:55:17.421Z"
   },
   {
    "duration": 9,
    "start_time": "2023-03-30T16:55:20.033Z"
   },
   {
    "duration": 247,
    "start_time": "2023-03-30T16:55:22.080Z"
   },
   {
    "duration": 10,
    "start_time": "2023-03-30T16:55:26.235Z"
   },
   {
    "duration": 7,
    "start_time": "2023-03-30T16:55:28.373Z"
   },
   {
    "duration": 57,
    "start_time": "2023-03-30T16:55:30.498Z"
   },
   {
    "duration": 7,
    "start_time": "2023-03-30T16:55:38.162Z"
   },
   {
    "duration": 8,
    "start_time": "2023-03-30T16:55:56.293Z"
   },
   {
    "duration": 670,
    "start_time": "2023-03-30T16:55:58.534Z"
   },
   {
    "duration": 38,
    "start_time": "2023-03-30T16:56:03.641Z"
   },
   {
    "duration": 8,
    "start_time": "2023-03-30T16:56:08.620Z"
   },
   {
    "duration": 6,
    "start_time": "2023-03-30T16:56:11.435Z"
   },
   {
    "duration": 7,
    "start_time": "2023-03-30T16:56:16.312Z"
   },
   {
    "duration": 14,
    "start_time": "2023-03-30T16:56:18.150Z"
   },
   {
    "duration": 177,
    "start_time": "2023-03-30T16:56:21.043Z"
   },
   {
    "duration": 92904,
    "start_time": "2023-03-30T16:56:26.021Z"
   },
   {
    "duration": 174,
    "start_time": "2023-03-30T16:58:14.610Z"
   },
   {
    "duration": 4,
    "start_time": "2023-03-30T16:58:17.446Z"
   },
   {
    "duration": 9,
    "start_time": "2023-03-30T16:58:19.793Z"
   },
   {
    "duration": 4,
    "start_time": "2023-03-30T16:58:21.721Z"
   },
   {
    "duration": 11,
    "start_time": "2023-03-30T16:58:23.457Z"
   },
   {
    "duration": 8,
    "start_time": "2023-03-30T16:58:30.002Z"
   },
   {
    "duration": 202,
    "start_time": "2023-03-30T16:58:32.594Z"
   },
   {
    "duration": 271,
    "start_time": "2023-03-30T16:58:49.500Z"
   },
   {
    "duration": 4,
    "start_time": "2023-03-30T16:58:55.353Z"
   },
   {
    "duration": 356,
    "start_time": "2023-03-30T16:58:57.690Z"
   },
   {
    "duration": 33976,
    "start_time": "2023-03-30T16:59:00.781Z"
   },
   {
    "duration": 526385,
    "start_time": "2023-03-30T17:00:39.612Z"
   },
   {
    "duration": 0,
    "start_time": "2023-03-30T17:09:25.998Z"
   },
   {
    "duration": 4325,
    "start_time": "2023-03-30T17:09:32.174Z"
   },
   {
    "duration": 5,
    "start_time": "2023-03-30T17:10:15.574Z"
   },
   {
    "duration": 4182,
    "start_time": "2023-03-30T17:10:17.531Z"
   },
   {
    "duration": 5,
    "start_time": "2023-03-30T17:10:24.796Z"
   },
   {
    "duration": 48,
    "start_time": "2023-03-30T17:10:51.493Z"
   },
   {
    "duration": 2111,
    "start_time": "2023-03-30T17:11:03.663Z"
   },
   {
    "duration": 1542,
    "start_time": "2023-03-30T17:11:07.587Z"
   },
   {
    "duration": 3,
    "start_time": "2023-03-30T17:11:10.631Z"
   },
   {
    "duration": 183,
    "start_time": "2023-03-30T17:11:12.038Z"
   },
   {
    "duration": 30,
    "start_time": "2023-03-30T17:11:13.854Z"
   },
   {
    "duration": 14,
    "start_time": "2023-03-30T17:11:16.391Z"
   },
   {
    "duration": 118,
    "start_time": "2023-03-30T17:11:18.711Z"
   },
   {
    "duration": 87,
    "start_time": "2023-03-30T17:11:20.512Z"
   },
   {
    "duration": 4,
    "start_time": "2023-03-30T17:11:22.469Z"
   },
   {
    "duration": 216,
    "start_time": "2023-03-30T17:11:23.792Z"
   },
   {
    "duration": 11,
    "start_time": "2023-03-30T17:11:26.562Z"
   },
   {
    "duration": 7,
    "start_time": "2023-03-30T17:11:28.700Z"
   },
   {
    "duration": 47,
    "start_time": "2023-03-30T17:11:30.499Z"
   },
   {
    "duration": 4,
    "start_time": "2023-03-30T17:11:33.952Z"
   },
   {
    "duration": 6,
    "start_time": "2023-03-30T17:11:36.671Z"
   },
   {
    "duration": 646,
    "start_time": "2023-03-30T17:11:38.951Z"
   },
   {
    "duration": 39,
    "start_time": "2023-03-30T17:11:45.690Z"
   },
   {
    "duration": 7,
    "start_time": "2023-03-30T17:11:49.614Z"
   },
   {
    "duration": 7,
    "start_time": "2023-03-30T17:11:53.370Z"
   },
   {
    "duration": 5,
    "start_time": "2023-03-30T17:11:59.070Z"
   },
   {
    "duration": 17,
    "start_time": "2023-03-30T17:12:00.851Z"
   },
   {
    "duration": 178,
    "start_time": "2023-03-30T17:12:03.091Z"
   },
   {
    "duration": 91975,
    "start_time": "2023-03-30T17:12:05.755Z"
   },
   {
    "duration": 98,
    "start_time": "2023-03-30T17:19:03.591Z"
   },
   {
    "duration": 4,
    "start_time": "2023-03-30T17:19:06.921Z"
   },
   {
    "duration": 11,
    "start_time": "2023-03-30T17:19:09.507Z"
   },
   {
    "duration": 4,
    "start_time": "2023-03-30T17:19:11.352Z"
   },
   {
    "duration": 11,
    "start_time": "2023-03-30T17:19:13.971Z"
   },
   {
    "duration": 242,
    "start_time": "2023-03-30T17:19:20.149Z"
   },
   {
    "duration": 134503,
    "start_time": "2023-03-30T17:19:25.249Z"
   },
   {
    "duration": 135,
    "start_time": "2023-03-30T17:25:57.049Z"
   },
   {
    "duration": 4,
    "start_time": "2023-03-30T17:26:11.692Z"
   },
   {
    "duration": 19,
    "start_time": "2023-03-30T17:26:20.870Z"
   },
   {
    "duration": 4,
    "start_time": "2023-03-30T17:26:25.210Z"
   },
   {
    "duration": 24,
    "start_time": "2023-03-30T17:26:41.038Z"
   },
   {
    "duration": 668,
    "start_time": "2023-03-30T17:26:44.008Z"
   },
   {
    "duration": 61,
    "start_time": "2023-03-30T17:26:49.858Z"
   },
   {
    "duration": 5,
    "start_time": "2023-03-30T17:26:53.359Z"
   },
   {
    "duration": 79,
    "start_time": "2023-03-30T17:26:55.261Z"
   },
   {
    "duration": 3212,
    "start_time": "2023-03-30T17:26:58.371Z"
   },
   {
    "duration": 361,
    "start_time": "2023-03-30T17:27:05.478Z"
   },
   {
    "duration": 406,
    "start_time": "2023-03-30T17:27:08.087Z"
   },
   {
    "duration": 36896,
    "start_time": "2023-03-30T17:27:11.158Z"
   },
   {
    "duration": 2201,
    "start_time": "2023-03-30T17:28:20.037Z"
   },
   {
    "duration": 5,
    "start_time": "2023-03-30T17:28:22.717Z"
   },
   {
    "duration": 4,
    "start_time": "2023-03-30T17:28:24.960Z"
   },
   {
    "duration": 41,
    "start_time": "2023-03-30T17:28:27.869Z"
   },
   {
    "duration": 27,
    "start_time": "2023-03-30T17:28:29.549Z"
   },
   {
    "duration": 10,
    "start_time": "2023-03-30T17:28:31.645Z"
   },
   {
    "duration": 128,
    "start_time": "2023-03-30T17:28:33.671Z"
   },
   {
    "duration": 99,
    "start_time": "2023-03-30T17:28:36.517Z"
   },
   {
    "duration": 4,
    "start_time": "2023-03-30T17:28:38.350Z"
   },
   {
    "duration": 266,
    "start_time": "2023-03-30T17:28:39.725Z"
   },
   {
    "duration": 11,
    "start_time": "2023-03-30T17:28:42.691Z"
   },
   {
    "duration": 8,
    "start_time": "2023-03-30T17:28:45.450Z"
   },
   {
    "duration": 49,
    "start_time": "2023-03-30T17:28:47.403Z"
   },
   {
    "duration": 6,
    "start_time": "2023-03-30T17:28:50.277Z"
   },
   {
    "duration": 7,
    "start_time": "2023-03-30T17:28:52.909Z"
   },
   {
    "duration": 729,
    "start_time": "2023-03-30T17:28:54.437Z"
   },
   {
    "duration": 41,
    "start_time": "2023-03-30T17:29:02.269Z"
   },
   {
    "duration": 8,
    "start_time": "2023-03-30T17:29:04.030Z"
   },
   {
    "duration": 6,
    "start_time": "2023-03-30T17:29:05.709Z"
   },
   {
    "duration": 6,
    "start_time": "2023-03-30T17:29:09.693Z"
   },
   {
    "duration": 17,
    "start_time": "2023-03-30T17:29:13.756Z"
   },
   {
    "duration": 178,
    "start_time": "2023-03-30T17:29:16.682Z"
   },
   {
    "duration": 90241,
    "start_time": "2023-03-30T17:29:21.389Z"
   },
   {
    "duration": 232,
    "start_time": "2023-03-30T17:32:17.268Z"
   },
   {
    "duration": 4,
    "start_time": "2023-03-30T17:32:23.197Z"
   },
   {
    "duration": 17,
    "start_time": "2023-03-30T17:32:25.181Z"
   },
   {
    "duration": 4,
    "start_time": "2023-03-30T17:32:26.700Z"
   },
   {
    "duration": 11,
    "start_time": "2023-03-30T17:32:28.701Z"
   },
   {
    "duration": 204,
    "start_time": "2023-03-30T17:32:31.637Z"
   },
   {
    "duration": 21978,
    "start_time": "2023-03-30T17:32:35.691Z"
   },
   {
    "duration": 31,
    "start_time": "2023-03-30T17:33:03.150Z"
   },
   {
    "duration": 40,
    "start_time": "2023-03-30T17:33:05.158Z"
   },
   {
    "duration": 1234,
    "start_time": "2023-03-30T17:33:09.687Z"
   },
   {
    "duration": 313,
    "start_time": "2023-03-30T17:33:16.093Z"
   },
   {
    "duration": 375,
    "start_time": "2023-03-30T17:33:17.977Z"
   },
   {
    "duration": 26963,
    "start_time": "2023-03-30T17:33:24.447Z"
   },
   {
    "duration": 349437,
    "start_time": "2023-03-30T17:38:32.812Z"
   },
   {
    "duration": 14702,
    "start_time": "2023-03-30T17:44:29.691Z"
   },
   {
    "duration": 11,
    "start_time": "2023-03-30T17:44:49.236Z"
   },
   {
    "duration": 14323,
    "start_time": "2023-03-30T17:44:56.771Z"
   },
   {
    "duration": 2352,
    "start_time": "2023-03-30T17:46:21.803Z"
   },
   {
    "duration": 5,
    "start_time": "2023-03-30T17:46:27.749Z"
   },
   {
    "duration": 4,
    "start_time": "2023-03-30T17:46:30.048Z"
   },
   {
    "duration": 44,
    "start_time": "2023-03-30T17:46:31.832Z"
   },
   {
    "duration": 28,
    "start_time": "2023-03-30T17:46:33.600Z"
   },
   {
    "duration": 11,
    "start_time": "2023-03-30T17:46:35.660Z"
   },
   {
    "duration": 130,
    "start_time": "2023-03-30T17:46:37.939Z"
   },
   {
    "duration": 115,
    "start_time": "2023-03-30T17:46:39.871Z"
   },
   {
    "duration": 5,
    "start_time": "2023-03-30T17:46:42.511Z"
   },
   {
    "duration": 236,
    "start_time": "2023-03-30T17:46:43.423Z"
   },
   {
    "duration": 23,
    "start_time": "2023-03-30T17:46:46.481Z"
   },
   {
    "duration": 8,
    "start_time": "2023-03-30T17:46:50.126Z"
   },
   {
    "duration": 47,
    "start_time": "2023-03-30T17:46:51.715Z"
   },
   {
    "duration": 6,
    "start_time": "2023-03-30T17:46:55.108Z"
   },
   {
    "duration": 8,
    "start_time": "2023-03-30T17:46:57.820Z"
   },
   {
    "duration": 617,
    "start_time": "2023-03-30T17:46:59.701Z"
   },
   {
    "duration": 38,
    "start_time": "2023-03-30T17:47:04.238Z"
   },
   {
    "duration": 8,
    "start_time": "2023-03-30T17:47:06.441Z"
   },
   {
    "duration": 7,
    "start_time": "2023-03-30T17:47:07.891Z"
   },
   {
    "duration": 8,
    "start_time": "2023-03-30T17:47:10.231Z"
   },
   {
    "duration": 17,
    "start_time": "2023-03-30T17:47:11.050Z"
   },
   {
    "duration": 167,
    "start_time": "2023-03-30T17:47:14.039Z"
   },
   {
    "duration": 96373,
    "start_time": "2023-03-30T17:47:17.831Z"
   },
   {
    "duration": 77,
    "start_time": "2023-03-30T17:51:38.117Z"
   },
   {
    "duration": 4,
    "start_time": "2023-03-30T17:51:59.670Z"
   },
   {
    "duration": 10,
    "start_time": "2023-03-30T17:52:01.451Z"
   },
   {
    "duration": 4,
    "start_time": "2023-03-30T17:52:03.041Z"
   },
   {
    "duration": 13,
    "start_time": "2023-03-30T17:52:04.270Z"
   },
   {
    "duration": 215,
    "start_time": "2023-03-30T17:52:05.828Z"
   },
   {
    "duration": 111358,
    "start_time": "2023-03-30T17:52:09.071Z"
   },
   {
    "duration": 158,
    "start_time": "2023-03-30T18:00:09.738Z"
   },
   {
    "duration": 87,
    "start_time": "2023-03-30T18:00:13.097Z"
   },
   {
    "duration": 4,
    "start_time": "2023-03-30T18:04:46.868Z"
   },
   {
    "duration": 68,
    "start_time": "2023-03-30T18:06:19.119Z"
   },
   {
    "duration": 78,
    "start_time": "2023-03-30T18:07:47.917Z"
   },
   {
    "duration": 203,
    "start_time": "2023-03-30T18:08:00.228Z"
   },
   {
    "duration": 2182,
    "start_time": "2023-03-30T18:13:20.647Z"
   },
   {
    "duration": 5,
    "start_time": "2023-03-30T18:13:22.831Z"
   },
   {
    "duration": 3,
    "start_time": "2023-03-30T18:13:27.037Z"
   },
   {
    "duration": 41,
    "start_time": "2023-03-30T18:13:29.276Z"
   },
   {
    "duration": 25,
    "start_time": "2023-03-30T18:13:31.716Z"
   },
   {
    "duration": 10,
    "start_time": "2023-03-30T18:13:34.321Z"
   },
   {
    "duration": 108,
    "start_time": "2023-03-30T18:13:36.746Z"
   },
   {
    "duration": 97,
    "start_time": "2023-03-30T18:13:38.457Z"
   },
   {
    "duration": 5,
    "start_time": "2023-03-30T18:13:42.507Z"
   },
   {
    "duration": 208,
    "start_time": "2023-03-30T18:13:44.455Z"
   },
   {
    "duration": 10,
    "start_time": "2023-03-30T18:13:50.686Z"
   },
   {
    "duration": 6,
    "start_time": "2023-03-30T18:13:53.537Z"
   },
   {
    "duration": 46,
    "start_time": "2023-03-30T18:13:56.056Z"
   },
   {
    "duration": 5,
    "start_time": "2023-03-30T18:13:59.894Z"
   },
   {
    "duration": 7,
    "start_time": "2023-03-30T18:14:02.871Z"
   },
   {
    "duration": 535,
    "start_time": "2023-03-30T18:14:05.217Z"
   },
   {
    "duration": 40,
    "start_time": "2023-03-30T18:14:12.426Z"
   },
   {
    "duration": 7,
    "start_time": "2023-03-30T18:14:16.717Z"
   },
   {
    "duration": 5,
    "start_time": "2023-03-30T18:14:17.655Z"
   },
   {
    "duration": 5,
    "start_time": "2023-03-30T18:14:18.917Z"
   },
   {
    "duration": 19,
    "start_time": "2023-03-30T18:14:19.757Z"
   },
   {
    "duration": 158,
    "start_time": "2023-03-30T18:14:24.404Z"
   },
   {
    "duration": 91476,
    "start_time": "2023-03-30T18:14:35.653Z"
   },
   {
    "duration": 178,
    "start_time": "2023-03-30T18:17:01.508Z"
   },
   {
    "duration": 5,
    "start_time": "2023-03-30T18:17:34.751Z"
   },
   {
    "duration": 9,
    "start_time": "2023-03-30T18:17:37.878Z"
   },
   {
    "duration": 4,
    "start_time": "2023-03-30T18:17:40.328Z"
   },
   {
    "duration": 13,
    "start_time": "2023-03-30T18:17:42.373Z"
   },
   {
    "duration": 201,
    "start_time": "2023-03-30T18:17:46.205Z"
   },
   {
    "duration": 111800,
    "start_time": "2023-03-30T18:17:59.529Z"
   },
   {
    "duration": 87,
    "start_time": "2023-03-30T18:23:34.502Z"
   },
   {
    "duration": 87,
    "start_time": "2023-03-30T18:23:42.297Z"
   },
   {
    "duration": 289,
    "start_time": "2023-03-30T18:28:53.023Z"
   },
   {
    "duration": 292,
    "start_time": "2023-03-30T18:30:38.528Z"
   },
   {
    "duration": 288,
    "start_time": "2023-03-30T18:33:33.705Z"
   },
   {
    "duration": 311,
    "start_time": "2023-03-30T18:34:48.704Z"
   },
   {
    "duration": 362,
    "start_time": "2023-03-30T18:35:25.148Z"
   },
   {
    "duration": 340,
    "start_time": "2023-03-30T19:07:11.819Z"
   },
   {
    "duration": 343,
    "start_time": "2023-03-30T19:07:57.385Z"
   },
   {
    "duration": 329,
    "start_time": "2023-03-30T19:08:37.313Z"
   },
   {
    "duration": 3842,
    "start_time": "2023-03-31T08:39:21.158Z"
   },
   {
    "duration": 1995,
    "start_time": "2023-03-31T08:39:25.003Z"
   },
   {
    "duration": 3,
    "start_time": "2023-03-31T08:39:27.000Z"
   },
   {
    "duration": 83,
    "start_time": "2023-03-31T08:39:27.005Z"
   },
   {
    "duration": 33,
    "start_time": "2023-03-31T08:39:27.090Z"
   },
   {
    "duration": 10,
    "start_time": "2023-03-31T08:39:27.125Z"
   },
   {
    "duration": 148,
    "start_time": "2023-03-31T08:39:27.137Z"
   },
   {
    "duration": 113,
    "start_time": "2023-03-31T08:39:27.286Z"
   },
   {
    "duration": 4,
    "start_time": "2023-03-31T08:39:27.401Z"
   },
   {
    "duration": 265,
    "start_time": "2023-03-31T08:39:27.409Z"
   },
   {
    "duration": 10,
    "start_time": "2023-03-31T08:39:27.676Z"
   },
   {
    "duration": 20,
    "start_time": "2023-03-31T08:39:27.687Z"
   },
   {
    "duration": 57,
    "start_time": "2023-03-31T08:39:27.708Z"
   },
   {
    "duration": 4,
    "start_time": "2023-03-31T08:39:27.766Z"
   },
   {
    "duration": 11,
    "start_time": "2023-03-31T08:39:27.772Z"
   },
   {
    "duration": 710,
    "start_time": "2023-03-31T08:39:27.785Z"
   },
   {
    "duration": 49,
    "start_time": "2023-03-31T08:39:28.497Z"
   },
   {
    "duration": 7,
    "start_time": "2023-03-31T08:39:28.548Z"
   },
   {
    "duration": 13,
    "start_time": "2023-03-31T08:39:28.557Z"
   },
   {
    "duration": 10,
    "start_time": "2023-03-31T08:39:28.572Z"
   },
   {
    "duration": 19,
    "start_time": "2023-03-31T08:39:28.584Z"
   },
   {
    "duration": 22,
    "start_time": "2023-03-31T08:39:28.605Z"
   },
   {
    "duration": 12,
    "start_time": "2023-03-31T08:42:28.875Z"
   },
   {
    "duration": 4478,
    "start_time": "2023-03-31T19:47:31.479Z"
   },
   {
    "duration": 69,
    "start_time": "2023-03-31T19:48:06.350Z"
   },
   {
    "duration": 1846,
    "start_time": "2023-03-31T19:48:08.577Z"
   },
   {
    "duration": 6,
    "start_time": "2023-03-31T19:48:11.125Z"
   },
   {
    "duration": 211,
    "start_time": "2023-03-31T19:48:14.153Z"
   },
   {
    "duration": 35,
    "start_time": "2023-03-31T19:48:16.831Z"
   },
   {
    "duration": 13,
    "start_time": "2023-03-31T19:48:19.667Z"
   },
   {
    "duration": 172,
    "start_time": "2023-03-31T19:48:22.578Z"
   },
   {
    "duration": 141,
    "start_time": "2023-03-31T19:48:24.771Z"
   },
   {
    "duration": 10,
    "start_time": "2023-03-31T19:48:28.187Z"
   },
   {
    "duration": 277,
    "start_time": "2023-03-31T19:48:32.461Z"
   },
   {
    "duration": 11,
    "start_time": "2023-03-31T19:48:47.165Z"
   },
   {
    "duration": 11,
    "start_time": "2023-03-31T19:48:53.114Z"
   },
   {
    "duration": 153,
    "start_time": "2023-03-31T19:48:56.187Z"
   },
   {
    "duration": 10,
    "start_time": "2023-03-31T19:49:01.812Z"
   },
   {
    "duration": 17,
    "start_time": "2023-03-31T19:49:25.981Z"
   },
   {
    "duration": 791,
    "start_time": "2023-03-31T19:49:30.920Z"
   },
   {
    "duration": 4,
    "start_time": "2023-03-31T19:50:00.584Z"
   },
   {
    "duration": 95,
    "start_time": "2023-03-31T19:50:03.540Z"
   },
   {
    "duration": 19,
    "start_time": "2023-03-31T19:50:29.805Z"
   },
   {
    "duration": 6,
    "start_time": "2023-03-31T19:50:53.252Z"
   },
   {
    "duration": 6,
    "start_time": "2023-03-31T19:50:57.244Z"
   },
   {
    "duration": 52,
    "start_time": "2023-03-31T19:50:59.859Z"
   },
   {
    "duration": 16,
    "start_time": "2023-03-31T19:51:23.959Z"
   },
   {
    "duration": 193,
    "start_time": "2023-03-31T19:51:29.555Z"
   },
   {
    "duration": 105834,
    "start_time": "2023-03-31T19:51:35.616Z"
   },
   {
    "duration": 372,
    "start_time": "2023-03-31T20:07:35.436Z"
   },
   {
    "duration": 13,
    "start_time": "2023-03-31T20:13:37.983Z"
   },
   {
    "duration": 5,
    "start_time": "2023-03-31T20:13:48.538Z"
   },
   {
    "duration": 11,
    "start_time": "2023-03-31T20:13:50.568Z"
   },
   {
    "duration": 18,
    "start_time": "2023-03-31T20:13:53.185Z"
   },
   {
    "duration": 14,
    "start_time": "2023-03-31T20:13:54.833Z"
   },
   {
    "duration": 231,
    "start_time": "2023-03-31T20:14:54.215Z"
   },
   {
    "duration": 98968,
    "start_time": "2023-03-31T20:14:57.825Z"
   },
   {
    "duration": 358,
    "start_time": "2023-03-31T20:16:40.744Z"
   },
   {
    "duration": 166,
    "start_time": "2023-03-31T20:18:14.282Z"
   },
   {
    "duration": 455,
    "start_time": "2023-03-31T20:19:36.682Z"
   },
   {
    "duration": 4034,
    "start_time": "2023-04-01T06:07:56.206Z"
   },
   {
    "duration": 2297,
    "start_time": "2023-04-01T06:08:00.243Z"
   },
   {
    "duration": 3,
    "start_time": "2023-04-01T06:08:02.542Z"
   },
   {
    "duration": 96,
    "start_time": "2023-04-01T06:08:02.547Z"
   },
   {
    "duration": 31,
    "start_time": "2023-04-01T06:08:02.645Z"
   },
   {
    "duration": 11,
    "start_time": "2023-04-01T06:08:02.678Z"
   },
   {
    "duration": 163,
    "start_time": "2023-04-01T06:08:02.690Z"
   },
   {
    "duration": 119,
    "start_time": "2023-04-01T06:08:02.855Z"
   },
   {
    "duration": 4,
    "start_time": "2023-04-01T06:08:02.976Z"
   },
   {
    "duration": 273,
    "start_time": "2023-04-01T06:08:02.983Z"
   },
   {
    "duration": 11,
    "start_time": "2023-04-01T06:08:03.258Z"
   },
   {
    "duration": 7,
    "start_time": "2023-04-01T06:08:03.271Z"
   },
   {
    "duration": 77,
    "start_time": "2023-04-01T06:08:03.279Z"
   },
   {
    "duration": 5,
    "start_time": "2023-04-01T06:08:03.358Z"
   },
   {
    "duration": 8,
    "start_time": "2023-04-01T06:08:03.365Z"
   },
   {
    "duration": 727,
    "start_time": "2023-04-01T06:08:03.375Z"
   },
   {
    "duration": 2,
    "start_time": "2023-04-01T06:08:04.104Z"
   },
   {
    "duration": 26,
    "start_time": "2023-04-01T06:08:04.108Z"
   },
   {
    "duration": 5,
    "start_time": "2023-04-01T06:08:04.136Z"
   },
   {
    "duration": 5,
    "start_time": "2023-04-01T06:08:04.143Z"
   },
   {
    "duration": 25,
    "start_time": "2023-04-01T06:08:04.150Z"
   },
   {
    "duration": 209,
    "start_time": "2023-04-01T06:08:04.177Z"
   },
   {
    "duration": 97739,
    "start_time": "2023-04-01T06:08:04.388Z"
   },
   {
    "duration": 202,
    "start_time": "2023-04-01T06:09:42.129Z"
   },
   {
    "duration": 4,
    "start_time": "2023-04-01T06:09:42.333Z"
   },
   {
    "duration": 98,
    "start_time": "2023-04-01T06:09:42.425Z"
   },
   {
    "duration": 4,
    "start_time": "2023-04-01T06:09:42.526Z"
   },
   {
    "duration": 15,
    "start_time": "2023-04-01T06:09:42.533Z"
   },
   {
    "duration": 176,
    "start_time": "2023-04-01T06:09:42.550Z"
   },
   {
    "duration": 83976,
    "start_time": "2023-04-01T06:09:42.728Z"
   },
   {
    "duration": 127,
    "start_time": "2023-04-01T06:11:06.706Z"
   },
   {
    "duration": 202,
    "start_time": "2023-04-01T06:11:06.924Z"
   },
   {
    "duration": 466,
    "start_time": "2023-04-01T06:11:07.131Z"
   },
   {
    "duration": 164,
    "start_time": "2023-04-01T06:11:07.598Z"
   },
   {
    "duration": 3486,
    "start_time": "2023-04-01T09:17:00.913Z"
   },
   {
    "duration": 1556,
    "start_time": "2023-04-01T09:17:04.402Z"
   },
   {
    "duration": 2,
    "start_time": "2023-04-01T09:17:10.646Z"
   },
   {
    "duration": 75,
    "start_time": "2023-04-01T09:17:12.704Z"
   },
   {
    "duration": 31,
    "start_time": "2023-04-01T09:17:14.608Z"
   },
   {
    "duration": 12,
    "start_time": "2023-04-01T09:17:20.157Z"
   },
   {
    "duration": 142,
    "start_time": "2023-04-01T09:17:22.462Z"
   },
   {
    "duration": 119,
    "start_time": "2023-04-01T09:17:24.613Z"
   },
   {
    "duration": 6,
    "start_time": "2023-04-01T09:17:27.004Z"
   },
   {
    "duration": 246,
    "start_time": "2023-04-01T09:17:28.975Z"
   },
   {
    "duration": 12,
    "start_time": "2023-04-01T09:17:31.995Z"
   },
   {
    "duration": 8,
    "start_time": "2023-04-01T09:17:38.676Z"
   },
   {
    "duration": 49,
    "start_time": "2023-04-01T09:17:40.898Z"
   },
   {
    "duration": 4,
    "start_time": "2023-04-01T09:17:44.268Z"
   },
   {
    "duration": 8,
    "start_time": "2023-04-01T09:17:48.929Z"
   },
   {
    "duration": 682,
    "start_time": "2023-04-01T09:17:51.813Z"
   },
   {
    "duration": 13,
    "start_time": "2023-04-01T09:17:58.871Z"
   },
   {
    "duration": 8,
    "start_time": "2023-04-01T09:18:02.007Z"
   },
   {
    "duration": 6,
    "start_time": "2023-04-01T09:18:05.972Z"
   },
   {
    "duration": 35,
    "start_time": "2023-04-01T09:18:07.723Z"
   },
   {
    "duration": 178,
    "start_time": "2023-04-01T09:18:10.604Z"
   },
   {
    "duration": 91622,
    "start_time": "2023-04-01T09:18:14.622Z"
   },
   {
    "duration": 202,
    "start_time": "2023-04-01T09:20:54.505Z"
   },
   {
    "duration": 4,
    "start_time": "2023-04-01T09:20:57.835Z"
   },
   {
    "duration": 9,
    "start_time": "2023-04-01T09:20:59.555Z"
   },
   {
    "duration": 4,
    "start_time": "2023-04-01T09:21:01.510Z"
   },
   {
    "duration": 11,
    "start_time": "2023-04-01T09:21:03.732Z"
   },
   {
    "duration": 154,
    "start_time": "2023-04-01T09:21:10.912Z"
   },
   {
    "duration": 78956,
    "start_time": "2023-04-01T09:21:13.197Z"
   },
   {
    "duration": 199,
    "start_time": "2023-04-01T09:23:21.104Z"
   },
   {
    "duration": 68,
    "start_time": "2023-04-01T09:23:24.243Z"
   },
   {
    "duration": 358,
    "start_time": "2023-04-01T09:23:50.704Z"
   }
  ],
  "kernelspec": {
   "display_name": "Python 3 (ipykernel)",
   "language": "python",
   "name": "python3"
  },
  "language_info": {
   "codemirror_mode": {
    "name": "ipython",
    "version": 3
   },
   "file_extension": ".py",
   "mimetype": "text/x-python",
   "name": "python",
   "nbconvert_exporter": "python",
   "pygments_lexer": "ipython3",
   "version": "3.9.5"
  },
  "toc": {
   "base_numbering": 1,
   "nav_menu": {},
   "number_sections": true,
   "sideBar": true,
   "skip_h1_title": true,
   "title_cell": "Содержание",
   "title_sidebar": "Contents",
   "toc_cell": true,
   "toc_position": {},
   "toc_section_display": true,
   "toc_window_display": false
  }
 },
 "nbformat": 4,
 "nbformat_minor": 2
}
